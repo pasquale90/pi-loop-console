{
  "nbformat": 4,
  "nbformat_minor": 0,
  "metadata": {
    "colab": {
      "name": "d2m_groove.ipynb",
      "provenance": [],
      "collapsed_sections": [],
      "include_colab_link": true
    },
    "kernelspec": {
      "name": "python3",
      "display_name": "Python 3"
    },
    "language_info": {
      "name": "python"
    }
  },
  "cells": [
    {
      "cell_type": "markdown",
      "metadata": {
        "id": "view-in-github",
        "colab_type": "text"
      },
      "source": [
        "<a href=\"https://colab.research.google.com/github/pasquale90/pi-loop-console/blob/dev-v.0.2/d2m_groove.ipynb\" target=\"_parent\"><img src=\"https://colab.research.google.com/assets/colab-badge.svg\" alt=\"Open In Colab\"/></a>"
      ]
    },
    {
      "cell_type": "code",
      "execution_count": 1,
      "metadata": {
        "id": "J_Yzpp7k1Jyq",
        "colab": {
          "base_uri": "https://localhost:8080/"
        },
        "outputId": "16fce17c-4c3c-448e-e4ac-de3b5b801595"
      },
      "outputs": [
        {
          "output_type": "stream",
          "name": "stdout",
          "text": [
            "Mounted at /content/gdrive\n"
          ]
        }
      ],
      "source": [
        "from google.colab import drive\n",
        "gdrive='/content/gdrive'\n",
        "drive.mount(gdrive, force_remount=True)"
      ]
    },
    {
      "cell_type": "markdown",
      "source": [
        "#Download dataset"
      ],
      "metadata": {
        "id": "o-cNYo-0D7xN"
      }
    },
    {
      "cell_type": "code",
      "source": [
        "'''\n",
        "!pwd\n",
        "%cd /content/gdrive/MyDrive\n",
        "!wget https://storage.googleapis.com/magentadata/datasets/groove/groove-v1.0.0.zip\n",
        "#!wget https://storage.googleapis.com/magentadata/datasets/groove/groove-v1.0.0-midionly.zip\n",
        "!unzip groove-v1.0.0.zip\n",
        "!rm groove-v1.0.0.zip\n",
        "!ls\n",
        "datapath=\"/content/gdrive/MyDrive/groove\"\n",
        "'''"
      ],
      "metadata": {
        "id": "6pi_5IM2249l",
        "colab": {
          "base_uri": "https://localhost:8080/",
          "height": 72
        },
        "outputId": "e9563a8a-c6bd-40e5-de8f-c25325562fb3"
      },
      "execution_count": null,
      "outputs": [
        {
          "output_type": "execute_result",
          "data": {
            "application/vnd.google.colaboratory.intrinsic+json": {
              "type": "string"
            },
            "text/plain": [
              "'\\n!pwd\\n%cd /content/gdrive/MyDrive\\n!wget https://storage.googleapis.com/magentadata/datasets/groove/groove-v1.0.0.zip\\n#!wget https://storage.googleapis.com/magentadata/datasets/groove/groove-v1.0.0-midionly.zip\\n!unzip groove-v1.0.0.zip\\n!rm groove-v1.0.0.zip\\n!ls\\ndatapath=\"/content/gdrive/MyDrive/groove\"\\n'"
            ]
          },
          "metadata": {},
          "execution_count": 2
        }
      ]
    },
    {
      "cell_type": "code",
      "source": [
        "''' code provided by authors\n",
        "import tensorflow as tf\n",
        "import tensorflow_datasets as tfds\n",
        "\n",
        "# tfds works in both Eager and Graph modes\n",
        "tf.executing_eagerly()\n",
        "\n",
        "# Load the full GMD with MIDI only (no audio) as a tf.data.Dataset\n",
        "dataset = tfds.load(\n",
        "    name=\"groove/full-midionly\",\n",
        "    split=tfds.Split.TRAIN,\n",
        "    try_gcs=True)\n",
        "\n",
        "# Build your input pipeline\n",
        "dataset = dataset.shuffle(1024).batch(32).prefetch(\n",
        "    tf.data.experimental.AUTOTUNE)\n",
        "for features in dataset.take(1):\n",
        "  # Access the features you are interested in\n",
        "  midi, genre = features[\"midi\"], features[\"style\"][\"primary\"]\n",
        "  print(f' Midi\\n{midi}')\n",
        "  print(f' Genre\\n{genre}')\n",
        "'''"
      ],
      "metadata": {
        "id": "nPXSPT3A6Fl1"
      },
      "execution_count": null,
      "outputs": []
    },
    {
      "cell_type": "code",
      "source": [
        "'''alternative dataset - midi only\n",
        "!wget https://storage.googleapis.com/magentadata/datasets/groove/groove-v1.0.0-midionly.zip\n",
        "!unzip groove-v1.0.0-midionly.zip\n",
        "!rm groove-v1.0.0-midionly.zip\n",
        "!ls\n",
        "'''"
      ],
      "metadata": {
        "id": "nBpgg9l87Q6u"
      },
      "execution_count": null,
      "outputs": []
    },
    {
      "cell_type": "code",
      "source": [
        "#!cp -r /content/sample_data/groove /content/gdrive/MyDrive/"
      ],
      "metadata": {
        "id": "yeOJ0Lb47Bd_"
      },
      "execution_count": null,
      "outputs": []
    },
    {
      "cell_type": "markdown",
      "source": [
        "#Familiarization with mido"
      ],
      "metadata": {
        "id": "p_k4l49CD0vP"
      }
    },
    {
      "cell_type": "code",
      "source": [
        "!pip install mido==1.2.9"
      ],
      "metadata": {
        "id": "2MJm5thI7sHP",
        "colab": {
          "base_uri": "https://localhost:8080/"
        },
        "outputId": "0713d032-d2ef-47f9-ab97-30b3625ea203"
      },
      "execution_count": 2,
      "outputs": [
        {
          "output_type": "stream",
          "name": "stdout",
          "text": [
            "Collecting mido==1.2.9\n",
            "  Downloading mido-1.2.9-py2.py3-none-any.whl (52 kB)\n",
            "\u001b[?25l\r\u001b[K     |██████▎                         | 10 kB 18.2 MB/s eta 0:00:01\r\u001b[K     |████████████▌                   | 20 kB 17.9 MB/s eta 0:00:01\r\u001b[K     |██████████████████▊             | 30 kB 12.3 MB/s eta 0:00:01\r\u001b[K     |█████████████████████████       | 40 kB 10.1 MB/s eta 0:00:01\r\u001b[K     |███████████████████████████████▏| 51 kB 5.5 MB/s eta 0:00:01\r\u001b[K     |████████████████████████████████| 52 kB 438 kB/s \n",
            "\u001b[?25hInstalling collected packages: mido\n",
            "Successfully installed mido-1.2.9\n"
          ]
        }
      ]
    },
    {
      "cell_type": "code",
      "source": [
        "import os\n",
        "from mido import MidiFile, tempo2bpm\n",
        "import pandas as pd\n",
        "\n",
        "datapath=\"/content/gdrive/MyDrive/groove/\"\n"
      ],
      "metadata": {
        "id": "tZOcW0HSDwYe"
      },
      "execution_count": 3,
      "outputs": []
    },
    {
      "cell_type": "code",
      "source": [
        "sample_midi_path=os.path.join(datapath,'drummer1/session1/106_funk_95_fill_4-4.mid')\n",
        "mid = MidiFile(sample_midi_path)#, clip=True\n",
        "print(mid)"
      ],
      "metadata": {
        "colab": {
          "base_uri": "https://localhost:8080/"
        },
        "id": "0QGOdZIiEGsV",
        "outputId": "6a662d72-63c3-41e4-f791-552dd8e0befb"
      },
      "execution_count": 4,
      "outputs": [
        {
          "output_type": "stream",
          "name": "stdout",
          "text": [
            "<midi file '/content/gdrive/MyDrive/groove/drummer1/session1/106_funk_95_fill_4-4.mid' type 0, 1 tracks, 84 messages>\n"
          ]
        }
      ]
    },
    {
      "cell_type": "code",
      "source": [
        "for i,track in enumerate(mid.tracks):\n",
        "    print(f'track_{i}:\\n {track}')"
      ],
      "metadata": {
        "colab": {
          "base_uri": "https://localhost:8080/"
        },
        "id": "hb4cgdTHEz0-",
        "outputId": "3a216830-c5bd-41bc-d629-c34bd4e1bb5b"
      },
      "execution_count": 6,
      "outputs": [
        {
          "output_type": "stream",
          "name": "stdout",
          "text": [
            "track_0:\n",
            " <midi track '' 84 messages>\n"
          ]
        }
      ]
    },
    {
      "cell_type": "markdown",
      "source": [
        "# define classes"
      ],
      "metadata": {
        "id": "x323wClB1AMv"
      }
    },
    {
      "cell_type": "code",
      "source": [
        "classes={\"Bass\":36,\n",
        "        \"Snare\":38,\n",
        "        \"High_Tom\":50,\n",
        "        \"Low_Mid_Tom\":47,\n",
        "        \"High_Floor_Tom\":43,\n",
        "        \"Open_Hi_Hat\":46,\n",
        "        \"Closed_Hi_Hat\":42,\n",
        "        \"Crash_Cymbal\":49,\n",
        "        \"Ride_Cymbal\":51}\n",
        "\n",
        "def get_class_string(id):\n",
        "  return [k for k,v in classes.items() if v == id][0]\n",
        "\n",
        "print(get_class_string(36))\n",
        "\n",
        "'''\n",
        "classes=[\"Bass\",\n",
        "        \"Snare\",\n",
        "        \"High_Tom\",\n",
        "        \"Low_Mid_Tom\",\n",
        "        \"High_Floor_Tom\",\n",
        "        \"Open_Hi_Hat\",\n",
        "        \"Closed_Hi_Hat\",\n",
        "        \"Crash_Cymbal\",\n",
        "        \"Ride_Cymbal\"]\n",
        "\n",
        "def get_class_id(class_str):\n",
        "  return [i for i,c in enumerate(classes) if c==class_str][0]\n",
        "\n",
        "def get_class_given_id(id):\n",
        "  return classes[id]\n",
        "\n",
        "id=get_class_id(\"Ride_Cymbal\")\n",
        "print(id)\n",
        "print(get_class_given_id(id))\n",
        "'''\n",
        "#print(classes)"
      ],
      "metadata": {
        "colab": {
          "base_uri": "https://localhost:8080/",
          "height": 91
        },
        "id": "oR6On-q70_jN",
        "outputId": "e33785f2-0bbe-4bb5-fed0-0a5d6458aeb2"
      },
      "execution_count": 9,
      "outputs": [
        {
          "output_type": "stream",
          "name": "stdout",
          "text": [
            "Bass\n"
          ]
        },
        {
          "output_type": "execute_result",
          "data": {
            "text/plain": [
              "'\\nclasses=[\"Bass\",\\n        \"Snare\",\\n        \"High_Tom\",\\n        \"Low_Mid_Tom\",\\n        \"High_Floor_Tom\",\\n        \"Open_Hi_Hat\",\\n        \"Closed_Hi_Hat\",\\n        \"Crash_Cymbal\",\\n        \"Ride_Cymbal\"]\\n\\ndef get_class_id(class_str):\\n  return [i for i,c in enumerate(classes) if c==class_str][0]\\n\\ndef get_class_given_id(id):\\n  return classes[id]\\n\\nid=get_class_id(\"Ride_Cymbal\")\\nprint(id)\\nprint(get_class_given_id(id))\\n'"
            ],
            "application/vnd.google.colaboratory.intrinsic+json": {
              "type": "string"
            }
          },
          "metadata": {},
          "execution_count": 9
        }
      ]
    },
    {
      "cell_type": "markdown",
      "source": [
        "### temporary parse_mido_message method\n",
        "- ##### swith if to **swich case**\n",
        "- ##### crate a class\n",
        "- ##### add action-methods"
      ],
      "metadata": {
        "id": "Lo3gziZ_rP7T"
      }
    },
    {
      "cell_type": "code",
      "source": [
        "def remap_pitch(pitch):\n",
        "  if pitch==36:\n",
        "    return 36#\"Bass\"\n",
        "  elif pitch in (37,38,40):\n",
        "    return 38#\"Snare\"\n",
        "  elif pitch in (48,50):\n",
        "    return 50#\"High_Tom\"\n",
        "  elif pitch in (45,47):\n",
        "    return 47#\"Low_Mid_Tom\"\n",
        "  elif pitch in (43,58):\n",
        "    return 43#\"High_Floor_Tom\"\n",
        "  elif pitch in (26,46):\n",
        "    return 46#\"Open_Hi_Hat\"\n",
        "  elif pitch in (22,42,44):\n",
        "    return 42#\"Closed_Hi_Hat\"\n",
        "  elif pitch in (49,52,55,57):\n",
        "    return 49#\"Crash_Cymbal\"\n",
        "  elif pitch in (51,53,59):\n",
        "    return 51#\"Ride_Cymbal\"\n",
        "\n",
        "def parse_midi_message(message): #msg.is_meta\n",
        "  message_type=message.type\n",
        "  values=[]\n",
        "  if message_type==\"set_tempo\":\n",
        "    action=\"set_tempo\"\n",
        "    tempo=message.tempo\n",
        "    bmp=int(tempo2bpm(tempo))\n",
        "    values.append(tempo)\n",
        "  elif message_type==\"time_signature\":\n",
        "    action=\"set_time_signature\"\n",
        "    numerator=message.numerator\n",
        "    denominator=message.denominator\n",
        "    clocks_per_click=message.clocks_per_click\n",
        "    notated_32nd_notes_per_beat=message.notated_32nd_notes_per_beat\n",
        "    values.append(numerator)\n",
        "    values.append(denominator)\n",
        "    values.append(clocks_per_click)\n",
        "    values.append(notated_32nd_notes_per_beat)\n",
        "  elif message_type==\"key_signature\":\n",
        "    action=\"set_key_signature\"\n",
        "    key=message.key\n",
        "    values.append(key)\n",
        "  elif message_type==\"note_on\":\n",
        "    action=\"new_note\"\n",
        "    channel=message.channel \n",
        "    note=message.note\n",
        "    note=remap_pitch(note)\n",
        "    velocity=message.velocity\n",
        "    time=message.time\n",
        "    values.append(channel)\n",
        "    values.append(note)\n",
        "    values.append(velocity)\n",
        "    values.append(time)\n",
        "      \n",
        "  elif message_type==\"program_change\":\n",
        "    action=\"program_change??\"\n",
        "    channel=message.channel\n",
        "    program=message.program \n",
        "    time=message.time\n",
        "    values.append(channel)\n",
        "    values.append(program)\n",
        "    values.append(time)\n",
        "  elif message_type==\"control_change\":\n",
        "    action=\"control_change??\"\n",
        "    channel=message.channel\n",
        "    control=message.control\n",
        "    value=message.value\n",
        "    time=message.time\n",
        "    values.append(channel)\n",
        "    values.append(control)\n",
        "    values.append(value)\n",
        "    values.append(time)\n",
        "\n",
        "  elif message_type==\"end_of_track\":\n",
        "    action=\"end_of_track\"\n",
        "    time=message.time\n",
        "    values.append(time)\n",
        "  else:\n",
        "    pass\n",
        "  \n",
        "  return action,values,message.time\n",
        "'''\n",
        "\n",
        "'''"
      ],
      "metadata": {
        "id": "MzB4Ih1ggk7M",
        "colab": {
          "base_uri": "https://localhost:8080/",
          "height": 36
        },
        "outputId": "aa45c553-5d40-413d-92ea-930ccf221066"
      },
      "execution_count": 7,
      "outputs": [
        {
          "output_type": "execute_result",
          "data": {
            "text/plain": [
              "'\\n\\n'"
            ],
            "application/vnd.google.colaboratory.intrinsic+json": {
              "type": "string"
            }
          },
          "metadata": {},
          "execution_count": 7
        }
      ]
    },
    {
      "cell_type": "code",
      "source": [
        "not_included=[]#DEBUG CLASSES\n",
        "\n",
        "elapsed_ticks=0\n",
        "for i,track in enumerate(mid.tracks[0]):\n",
        "  method,values,ticks_passed=parse_midi_message(track)\n",
        "  elapsed_ticks+=ticks_passed\n",
        "  if method==\"new_note\":\n",
        "    print(f'note:{get_class_string(values[1])},velocity:{values[2]},time:{values[3]}')\n",
        "'''\n",
        "    #DEBUG CLASSES\n",
        "    try: #DEBUG CLASSES\n",
        "      #print(f'note:{get_class_string(values[1])},velocity:{values[2]},time:{values[3]}')#DEBUG CLASSES\n",
        "      pass\n",
        "    except IndexError: #DEBUG CLASSES\n",
        "      print(f'note {values[1]} has not corresponding class')#DEBUG CLASSES\n",
        "      not_included.append(values[1])\n",
        "not_included=list(set(not_included))\n",
        "print(f'{len(not_included)} classes that are not included are {not_included}')\n",
        "  #print(f'Method {method} will use values {values}')\n",
        "'''\n",
        "print(elapsed_ticks)"
      ],
      "metadata": {
        "id": "OIkgNhH1n42v",
        "colab": {
          "base_uri": "https://localhost:8080/"
        },
        "outputId": "5ad5ffac-ff0e-4b7e-82cd-7e18186903a7"
      },
      "execution_count": 10,
      "outputs": [
        {
          "output_type": "stream",
          "name": "stdout",
          "text": [
            "note:Snare,velocity:21,time:196\n",
            "note:Snare,velocity:0,time:37\n",
            "note:Snare,velocity:38,time:0\n",
            "note:Snare,velocity:0,time:31\n",
            "note:Snare,velocity:88,time:50\n",
            "note:Snare,velocity:0,time:77\n",
            "note:Snare,velocity:81,time:16\n",
            "note:Snare,velocity:0,time:77\n",
            "note:Snare,velocity:56,time:33\n",
            "note:Snare,velocity:0,time:0\n",
            "note:Snare,velocity:74,time:17\n",
            "note:Snare,velocity:0,time:63\n",
            "note:Snare,velocity:67,time:13\n",
            "note:Snare,velocity:0,time:2\n",
            "note:Bass,velocity:52,time:29\n",
            "note:Open_Hi_Hat,velocity:83,time:17\n",
            "note:Bass,velocity:0,time:19\n",
            "note:Open_Hi_Hat,velocity:0,time:17\n",
            "note:Closed_Hi_Hat,velocity:85,time:10\n",
            "note:Closed_Hi_Hat,velocity:0,time:36\n",
            "note:High_Tom,velocity:92,time:12\n",
            "note:High_Tom,velocity:0,time:76\n",
            "note:High_Tom,velocity:98,time:40\n",
            "note:High_Tom,velocity:0,time:11\n",
            "note:High_Tom,velocity:103,time:4\n",
            "note:High_Tom,velocity:0,time:8\n",
            "note:High_Tom,velocity:101,time:14\n",
            "note:High_Tom,velocity:0,time:54\n",
            "note:Bass,velocity:51,time:29\n",
            "note:Bass,velocity:0,time:76\n",
            "note:High_Floor_Tom,velocity:127,time:56\n",
            "note:High_Floor_Tom,velocity:0,time:77\n",
            "4561\n"
          ]
        }
      ]
    },
    {
      "cell_type": "code",
      "source": [
        "for msg in mid.tracks[0]:\n",
        "    print(msg)"
      ],
      "metadata": {
        "id": "g_po6qp1KaIS",
        "colab": {
          "base_uri": "https://localhost:8080/"
        },
        "outputId": "0703956d-8e5d-479b-9201-ee52b8ebdf7b"
      },
      "execution_count": 11,
      "outputs": [
        {
          "output_type": "stream",
          "name": "stdout",
          "text": [
            "<meta message set_tempo tempo=631578 time=0>\n",
            "<meta message time_signature numerator=4 denominator=4 clocks_per_click=24 notated_32nd_notes_per_beat=8 time=0>\n",
            "<meta message key_signature key='C' time=0>\n",
            "program_change channel=9 program=0 time=0\n",
            "control_change channel=9 control=4 value=89 time=0\n",
            "program_change channel=9 program=0 time=0\n",
            "control_change channel=9 control=4 value=88 time=204\n",
            "control_change channel=9 control=4 value=87 time=203\n",
            "control_change channel=9 control=4 value=86 time=203\n",
            "control_change channel=9 control=4 value=85 time=203\n",
            "control_change channel=9 control=4 value=84 time=205\n",
            "control_change channel=9 control=4 value=83 time=203\n",
            "control_change channel=9 control=4 value=82 time=203\n",
            "control_change channel=9 control=4 value=81 time=203\n",
            "note_on channel=9 note=38 velocity=21 time=196\n",
            "control_change channel=9 control=4 value=80 time=8\n",
            "note_on channel=9 note=38 velocity=0 time=37\n",
            "note_on channel=9 note=38 velocity=38 time=0\n",
            "note_on channel=9 note=38 velocity=0 time=31\n",
            "note_on channel=9 note=37 velocity=88 time=50\n",
            "note_on channel=9 note=37 velocity=0 time=77\n",
            "control_change channel=9 control=4 value=79 time=8\n",
            "note_on channel=9 note=38 velocity=81 time=16\n",
            "note_on channel=9 note=38 velocity=0 time=77\n",
            "note_on channel=9 note=38 velocity=56 time=33\n",
            "control_change channel=9 control=4 value=78 time=77\n",
            "note_on channel=9 note=38 velocity=0 time=0\n",
            "control_change channel=9 control=4 value=82 time=18\n",
            "note_on channel=9 note=38 velocity=74 time=17\n",
            "control_change channel=9 control=4 value=87 time=1\n",
            "control_change channel=9 control=4 value=90 time=12\n",
            "note_on channel=9 note=38 velocity=0 time=63\n",
            "control_change channel=9 control=4 value=89 time=25\n",
            "note_on channel=9 note=38 velocity=67 time=13\n",
            "control_change channel=9 control=4 value=88 time=75\n",
            "note_on channel=9 note=38 velocity=0 time=2\n",
            "note_on channel=9 note=36 velocity=52 time=29\n",
            "note_on channel=9 note=26 velocity=83 time=17\n",
            "control_change channel=9 control=4 value=87 time=41\n",
            "note_on channel=9 note=36 velocity=0 time=19\n",
            "note_on channel=9 note=26 velocity=0 time=17\n",
            "note_on channel=9 note=44 velocity=85 time=10\n",
            "control_change channel=9 control=4 value=86 time=41\n",
            "note_on channel=9 note=44 velocity=0 time=36\n",
            "control_change channel=9 control=4 value=85 time=52\n",
            "note_on channel=9 note=48 velocity=92 time=12\n",
            "note_on channel=9 note=48 velocity=0 time=76\n",
            "control_change channel=9 control=4 value=84 time=1\n",
            "note_on channel=9 note=48 velocity=98 time=40\n",
            "control_change channel=9 control=4 value=83 time=48\n",
            "control_change channel=9 control=4 value=67 time=18\n",
            "note_on channel=9 note=48 velocity=0 time=11\n",
            "control_change channel=9 control=4 value=50 time=7\n",
            "control_change channel=9 control=4 value=43 time=7\n",
            "control_change channel=9 control=4 value=22 time=18\n",
            "note_on channel=9 note=48 velocity=103 time=4\n",
            "control_change channel=9 control=4 value=0 time=14\n",
            "control_change channel=9 control=4 value=1 time=0\n",
            "control_change channel=9 control=4 value=3 time=19\n",
            "control_change channel=9 control=4 value=6 time=17\n",
            "control_change channel=9 control=4 value=9 time=18\n",
            "note_on channel=9 note=48 velocity=0 time=8\n",
            "control_change channel=9 control=4 value=12 time=10\n",
            "control_change channel=9 control=4 value=15 time=18\n",
            "control_change channel=9 control=4 value=16 time=3\n",
            "note_on channel=9 note=48 velocity=101 time=14\n",
            "control_change channel=9 control=4 value=51 time=4\n",
            "control_change channel=9 control=4 value=87 time=18\n",
            "control_change channel=9 control=4 value=90 time=1\n",
            "note_on channel=9 note=48 velocity=0 time=54\n",
            "note_on channel=9 note=36 velocity=51 time=29\n",
            "note_on channel=9 note=36 velocity=0 time=76\n",
            "control_change channel=9 control=4 value=89 time=3\n",
            "note_on channel=9 note=43 velocity=127 time=56\n",
            "note_on channel=9 note=43 velocity=0 time=77\n",
            "control_change channel=9 control=4 value=88 time=27\n",
            "control_change channel=9 control=4 value=87 time=162\n",
            "control_change channel=9 control=4 value=86 time=160\n",
            "control_change channel=9 control=4 value=85 time=161\n",
            "control_change channel=9 control=4 value=84 time=161\n",
            "control_change channel=9 control=4 value=83 time=161\n",
            "control_change channel=9 control=4 value=82 time=161\n",
            "control_change channel=9 control=4 value=81 time=161\n",
            "<meta message end_of_track time=1>\n"
          ]
        }
      ]
    },
    {
      "cell_type": "code",
      "source": [
        "import mido\n",
        "\n",
        "#60000 / (BPM * PPQ)(miliseconds)\n",
        "PPQ=ticks_per_beat=mid.ticks_per_beat\n",
        "ms_per_tick=(60000 / (95 * PPQ))\n",
        "print(ms_per_tick)\n",
        "\n",
        "#mido.tick2second(tick, ticks_per_beat, tempo)\n",
        "tick=elapsed_ticks\n",
        "tempo=631578\n",
        "total_seconds=mido.tick2second(tick,ticks_per_beat,tempo)\n",
        "print(total_seconds)"
      ],
      "metadata": {
        "colab": {
          "base_uri": "https://localhost:8080/"
        },
        "id": "nB0O2DpOYic5",
        "outputId": "bd068278-5a58-4a5a-83c4-1aa0c5743f28"
      },
      "execution_count": 14,
      "outputs": [
        {
          "output_type": "stream",
          "name": "stdout",
          "text": [
            "1.3157894736842106\n",
            "6.001306787499999\n"
          ]
        }
      ]
    },
    {
      "cell_type": "code",
      "source": [
        "# how to calculate bpm ? How to determine time of note-on?\n",
        "total_ticks=631578\n",
        "ticks_per_beat=24\n",
        "beats_per_quarter=4\n",
        "quarters=8\n",
        "print(((60 * 1000000) /total_ticks)) # # One minute is 60 million microseconds."
      ],
      "metadata": {
        "colab": {
          "base_uri": "https://localhost:8080/"
        },
        "outputId": "34a1e21d-a36b-4a81-82e6-97a694882a09",
        "id": "eXm_xmxFZTPT"
      },
      "execution_count": null,
      "outputs": [
        {
          "output_type": "stream",
          "name": "stdout",
          "text": [
            "95.00014250021376\n"
          ]
        }
      ]
    },
    {
      "cell_type": "code",
      "source": [
        "print(mido.tick2second(elapsed_time,ticks_per_beat,total_ticks))\n",
        "\n",
        "scale=total_ticks * 1e-6 / ticks_per_beat\n",
        "print(elapsed_time*scale)\n",
        "\n",
        "print(total_ticks*(60000 /(95 * 24)))"
      ],
      "metadata": {
        "colab": {
          "base_uri": "https://localhost:8080/"
        },
        "id": "B8lpw8YjS6AA",
        "outputId": "8b69e323-8fa5-4c93-e1cd-497ec27679ee"
      },
      "execution_count": null,
      "outputs": [
        {
          "output_type": "stream",
          "name": "stdout",
          "text": [
            "120.02613575\n",
            "120.02613575\n",
            "277.0078947368421\n"
          ]
        }
      ]
    },
    {
      "cell_type": "code",
      "source": [
        "def tick2second(tick, ticks_per_beat, tempo):\n",
        "    \"\"\"Convert absolute time in ticks to seconds.\n",
        "    Returns absolute time in seconds for a chosen MIDI file time\n",
        "    resolution (ticks per beat, also called PPQN or pulses per quarter\n",
        "    note) and tempo (microseconds per beat).\n",
        "    \"\"\"\n",
        "    scale = tempo * 1e-6 / ticks_per_beat\n",
        "    return tick * scale"
      ],
      "metadata": {
        "id": "xvu-AbV-S2V6"
      },
      "execution_count": null,
      "outputs": []
    },
    {
      "cell_type": "code",
      "source": [
        "import mido\n",
        "totalElapsedTime = mido.tick2second(4561, 24, total_ticks)\n",
        "print(totalElapsedTime)"
      ],
      "metadata": {
        "colab": {
          "base_uri": "https://localhost:8080/"
        },
        "id": "jejmtw7fQWx7",
        "outputId": "f92cb830-ea69-494c-be6a-fde3a57904ff"
      },
      "execution_count": null,
      "outputs": [
        {
          "output_type": "stream",
          "name": "stdout",
          "text": [
            "360.07840725\n"
          ]
        }
      ]
    },
    {
      "cell_type": "markdown",
      "source": [
        "# list all files"
      ],
      "metadata": {
        "id": "kNHR0uipszI2"
      }
    },
    {
      "cell_type": "code",
      "source": [
        "print(len(midipaths))\n",
        "print(len(audiopaths))\n",
        "print(len(list(set(midipaths))))\n",
        "print(len(list(set(audiopaths))))"
      ],
      "metadata": {
        "colab": {
          "base_uri": "https://localhost:8080/"
        },
        "id": "40Ej2twCxIvP",
        "outputId": "3ddbb86e-6143-4d32-f382-101b1b1723e9"
      },
      "execution_count": null,
      "outputs": [
        {
          "output_type": "stream",
          "name": "stdout",
          "text": [
            "1150\n",
            "1150\n",
            "1150\n",
            "1091\n"
          ]
        }
      ]
    },
    {
      "cell_type": "code",
      "source": [
        "def get_data_subpaths(datapath):\n",
        "  folders=[]\n",
        "  for c in os.listdir(datapath):\n",
        "    subpath=os.path.join(datapath,c)\n",
        "    if (os.path.isdir(subpath)):\n",
        "      #print(f'{subpath} is a folder')\n",
        "      folders.append(subpath)\n",
        "    elif (c==\"info.csv\"):\n",
        "      #print(f\"{subpath} is the annotation file\")\n",
        "      csv_path=subpath\n",
        "    else:\n",
        "      #print(f'{c} is an irrelevant file - not of my concern!')\n",
        "      pass\n",
        "  return csv_path,folders\n",
        "\n",
        "def read_csv(csv_path):\n",
        "  midipaths,audiopaths,bpms,durations,splits,beat_types,sessions=[],[],[],[],[],[],[]\n",
        "  csv=pd.read_csv(csv_path)  \n",
        "  #print(csv.shape)\n",
        "  idxs = csv.index.values.tolist()\n",
        "  for i,idx in enumerate(idxs):\n",
        "    #print(f'index {idx}, value {csv.loc[idx,:]}')\n",
        "    midipaths.append(os.path.join(datapath,csv.loc[idx,\"midi_filename\"]))\n",
        "    #audio_filename=csv.loc[idx,\"audio_filename\"])\n",
        "    try:\n",
        "      audiopaths.append(os.path.join(datapath,csv.loc[idx,\"audio_filename\"]))\n",
        "    except TypeError:\n",
        "      audiopaths.append(\"-\")\n",
        "    bpms.append(csv.loc[idx,\"bpm\"])\n",
        "    durations.append(csv.loc[idx,\"duration\"])\n",
        "    splits.append(csv.loc[idx,\"split\"])\n",
        "    beat_types.append(csv.loc[idx,\"beat_type\"])\n",
        "    sessions.append(csv.loc[idx,\"session\"])\n",
        "  return midipaths,audiopaths,bpms,durations,splits,beat_types,sessions\n",
        "  \n",
        "csv_path,data_folders=get_data_subpaths(datapath)\n",
        "midipaths,audiopaths,bpms,durations,splits,beat_types,sessions=read_csv(csv_path)\n",
        "#for subf in data_folders:\n",
        "#  print(os.listdir(subf))"
      ],
      "metadata": {
        "id": "vC14XChIsyrm"
      },
      "execution_count": null,
      "outputs": []
    }
  ]
}