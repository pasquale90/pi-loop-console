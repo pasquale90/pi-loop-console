{
  "nbformat": 4,
  "nbformat_minor": 0,
  "metadata": {
    "colab": {
      "name": "d2m_groove.ipynb",
      "provenance": [],
      "collapsed_sections": [],
      "include_colab_link": true
    },
    "kernelspec": {
      "name": "python3",
      "display_name": "Python 3"
    },
    "language_info": {
      "name": "python"
    }
  },
  "cells": [
    {
      "cell_type": "markdown",
      "metadata": {
        "id": "view-in-github",
        "colab_type": "text"
      },
      "source": [
        "<a href=\"https://colab.research.google.com/github/pasquale90/pi-loop-console/blob/dev-v.0.2/d2m_groove.ipynb\" target=\"_parent\"><img src=\"https://colab.research.google.com/assets/colab-badge.svg\" alt=\"Open In Colab\"/></a>"
      ]
    },
    {
      "cell_type": "code",
      "execution_count": 1,
      "metadata": {
        "id": "J_Yzpp7k1Jyq",
        "colab": {
          "base_uri": "https://localhost:8080/"
        },
        "outputId": "be4eb3f1-e12d-4b7a-b647-93f71df3095e"
      },
      "outputs": [
        {
          "output_type": "stream",
          "name": "stdout",
          "text": [
            "Mounted at /content/gdrive\n"
          ]
        }
      ],
      "source": [
        "from google.colab import drive\n",
        "gdrive='/content/gdrive'\n",
        "drive.mount(gdrive, force_remount=True)"
      ]
    },
    {
      "cell_type": "markdown",
      "source": [
        "#Download dataset"
      ],
      "metadata": {
        "id": "o-cNYo-0D7xN"
      }
    },
    {
      "cell_type": "code",
      "source": [
        "'''\n",
        "!pwd\n",
        "%cd /content/gdrive/MyDrive\n",
        "!wget https://storage.googleapis.com/magentadata/datasets/groove/groove-v1.0.0.zip\n",
        "#!wget https://storage.googleapis.com/magentadata/datasets/groove/groove-v1.0.0-midionly.zip\n",
        "!unzip groove-v1.0.0.zip\n",
        "!rm groove-v1.0.0.zip\n",
        "!ls\n",
        "datapath=\"/content/gdrive/MyDrive/groove\"\n",
        "'''"
      ],
      "metadata": {
        "id": "6pi_5IM2249l",
        "colab": {
          "base_uri": "https://localhost:8080/",
          "height": 72
        },
        "outputId": "e9563a8a-c6bd-40e5-de8f-c25325562fb3"
      },
      "execution_count": null,
      "outputs": [
        {
          "output_type": "execute_result",
          "data": {
            "application/vnd.google.colaboratory.intrinsic+json": {
              "type": "string"
            },
            "text/plain": [
              "'\\n!pwd\\n%cd /content/gdrive/MyDrive\\n!wget https://storage.googleapis.com/magentadata/datasets/groove/groove-v1.0.0.zip\\n#!wget https://storage.googleapis.com/magentadata/datasets/groove/groove-v1.0.0-midionly.zip\\n!unzip groove-v1.0.0.zip\\n!rm groove-v1.0.0.zip\\n!ls\\ndatapath=\"/content/gdrive/MyDrive/groove\"\\n'"
            ]
          },
          "metadata": {},
          "execution_count": 2
        }
      ]
    },
    {
      "cell_type": "code",
      "source": [
        "''' code provided by authors\n",
        "import tensorflow as tf\n",
        "import tensorflow_datasets as tfds\n",
        "\n",
        "# tfds works in both Eager and Graph modes\n",
        "tf.executing_eagerly()\n",
        "\n",
        "# Load the full GMD with MIDI only (no audio) as a tf.data.Dataset\n",
        "dataset = tfds.load(\n",
        "    name=\"groove/full-midionly\",\n",
        "    split=tfds.Split.TRAIN,\n",
        "    try_gcs=True)\n",
        "\n",
        "# Build your input pipeline\n",
        "dataset = dataset.shuffle(1024).batch(32).prefetch(\n",
        "    tf.data.experimental.AUTOTUNE)\n",
        "for features in dataset.take(1):\n",
        "  # Access the features you are interested in\n",
        "  midi, genre = features[\"midi\"], features[\"style\"][\"primary\"]\n",
        "  print(f' Midi\\n{midi}')\n",
        "  print(f' Genre\\n{genre}')\n",
        "'''"
      ],
      "metadata": {
        "id": "nPXSPT3A6Fl1"
      },
      "execution_count": null,
      "outputs": []
    },
    {
      "cell_type": "code",
      "source": [
        "'''alternative dataset - midi only\n",
        "!wget https://storage.googleapis.com/magentadata/datasets/groove/groove-v1.0.0-midionly.zip\n",
        "!unzip groove-v1.0.0-midionly.zip\n",
        "!rm groove-v1.0.0-midionly.zip\n",
        "!ls\n",
        "'''"
      ],
      "metadata": {
        "id": "nBpgg9l87Q6u"
      },
      "execution_count": null,
      "outputs": []
    },
    {
      "cell_type": "code",
      "source": [
        "#!cp -r /content/sample_data/groove /content/gdrive/MyDrive/"
      ],
      "metadata": {
        "id": "yeOJ0Lb47Bd_"
      },
      "execution_count": null,
      "outputs": []
    },
    {
      "cell_type": "markdown",
      "source": [
        "#Familiarization with mido"
      ],
      "metadata": {
        "id": "p_k4l49CD0vP"
      }
    },
    {
      "cell_type": "code",
      "source": [
        "!pip install mido==1.2.9"
      ],
      "metadata": {
        "id": "2MJm5thI7sHP",
        "colab": {
          "base_uri": "https://localhost:8080/"
        },
        "outputId": "c7a728ba-f174-44a5-b1a2-23416af20553"
      },
      "execution_count": 2,
      "outputs": [
        {
          "output_type": "stream",
          "name": "stdout",
          "text": [
            "Collecting mido==1.2.9\n",
            "  Downloading mido-1.2.9-py2.py3-none-any.whl (52 kB)\n",
            "\u001b[?25l\r\u001b[K     |██████▎                         | 10 kB 17.3 MB/s eta 0:00:01\r\u001b[K     |████████████▌                   | 20 kB 9.4 MB/s eta 0:00:01\r\u001b[K     |██████████████████▊             | 30 kB 8.2 MB/s eta 0:00:01\r\u001b[K     |█████████████████████████       | 40 kB 7.5 MB/s eta 0:00:01\r\u001b[K     |███████████████████████████████▏| 51 kB 5.0 MB/s eta 0:00:01\r\u001b[K     |████████████████████████████████| 52 kB 1.0 MB/s \n",
            "\u001b[?25hInstalling collected packages: mido\n",
            "Successfully installed mido-1.2.9\n"
          ]
        }
      ]
    },
    {
      "cell_type": "code",
      "source": [
        "import os\n",
        "import mido #import MidiFile, tempo2bpm, tick2second\n",
        "import pandas as pd\n",
        "import librosa\n",
        "\n",
        "datapath=\"/content/gdrive/MyDrive/groove/\""
      ],
      "metadata": {
        "id": "tZOcW0HSDwYe"
      },
      "execution_count": 3,
      "outputs": []
    },
    {
      "cell_type": "code",
      "source": [
        "sample_midi_path=os.path.join(datapath,'drummer1/session1/106_funk_95_fill_4-4.mid')\n",
        "mid = mido.MidiFile(sample_midi_path)#, clip=True\n",
        "print(mid,\"\\n\")\n",
        "\n",
        "for i,track in enumerate(mid.tracks):\n",
        "    print(f'track_{i}:\\n {track}')"
      ],
      "metadata": {
        "colab": {
          "base_uri": "https://localhost:8080/"
        },
        "id": "0QGOdZIiEGsV",
        "outputId": "423079c2-ff0f-4fee-9515-705d2fdb7609"
      },
      "execution_count": 4,
      "outputs": [
        {
          "output_type": "stream",
          "name": "stdout",
          "text": [
            "<midi file '/content/gdrive/MyDrive/groove/drummer1/session1/106_funk_95_fill_4-4.mid' type 0, 1 tracks, 84 messages> \n",
            "\n",
            "track_0:\n",
            " <midi track '' 84 messages>\n"
          ]
        }
      ]
    },
    {
      "cell_type": "markdown",
      "source": [
        "# define classes"
      ],
      "metadata": {
        "id": "x323wClB1AMv"
      }
    },
    {
      "cell_type": "code",
      "source": [
        "classes={\"Bass\":36,\n",
        "        \"Snare\":38,\n",
        "        \"High_Tom\":50,\n",
        "        \"Low_Mid_Tom\":47,\n",
        "        \"High_Floor_Tom\":43,\n",
        "        \"Open_Hi_Hat\":46,\n",
        "        \"Closed_Hi_Hat\":42,\n",
        "        \"Crash_Cymbal\":49,\n",
        "        \"Ride_Cymbal\":51}\n",
        "\n",
        "def get_class_string(id):\n",
        "  return [k for k,v in classes.items() if v == id][0]\n",
        "\n",
        "print(get_class_string(36))\n",
        "\n",
        "'''\n",
        "classes=[\"Bass\",\n",
        "        \"Snare\",\n",
        "        \"High_Tom\",\n",
        "        \"Low_Mid_Tom\",\n",
        "        \"High_Floor_Tom\",\n",
        "        \"Open_Hi_Hat\",\n",
        "        \"Closed_Hi_Hat\",\n",
        "        \"Crash_Cymbal\",\n",
        "        \"Ride_Cymbal\"]\n",
        "\n",
        "def get_class_id(class_str):\n",
        "  return [i for i,c in enumerate(classes) if c==class_str][0]\n",
        "\n",
        "def get_class_given_id(id):\n",
        "  return classes[id]\n",
        "\n",
        "id=get_class_id(\"Ride_Cymbal\")\n",
        "print(id)\n",
        "print(get_class_given_id(id))\n",
        "'''\n",
        "#print(classes)"
      ],
      "metadata": {
        "colab": {
          "base_uri": "https://localhost:8080/",
          "height": 128
        },
        "id": "oR6On-q70_jN",
        "outputId": "bc717c4b-8ae4-4062-8f57-a6eedf1377fe"
      },
      "execution_count": 5,
      "outputs": [
        {
          "output_type": "stream",
          "name": "stdout",
          "text": [
            "Bass\n"
          ]
        },
        {
          "output_type": "execute_result",
          "data": {
            "text/plain": [
              "'\\nclasses=[\"Bass\",\\n        \"Snare\",\\n        \"High_Tom\",\\n        \"Low_Mid_Tom\",\\n        \"High_Floor_Tom\",\\n        \"Open_Hi_Hat\",\\n        \"Closed_Hi_Hat\",\\n        \"Crash_Cymbal\",\\n        \"Ride_Cymbal\"]\\n\\ndef get_class_id(class_str):\\n  return [i for i,c in enumerate(classes) if c==class_str][0]\\n\\ndef get_class_given_id(id):\\n  return classes[id]\\n\\nid=get_class_id(\"Ride_Cymbal\")\\nprint(id)\\nprint(get_class_given_id(id))\\n'"
            ],
            "application/vnd.google.colaboratory.intrinsic+json": {
              "type": "string"
            }
          },
          "metadata": {},
          "execution_count": 5
        }
      ]
    },
    {
      "cell_type": "markdown",
      "source": [
        "# design Note and Midifile classes"
      ],
      "metadata": {
        "id": "8OqziHSHXOrv"
      }
    },
    {
      "cell_type": "code",
      "source": [
        "'''\n",
        "class Midifile:\n",
        "  def __init__(self, filepath):\n",
        "    self.midifile=mido.MidiFile(filepath)\n",
        "    self.tempo=0\n",
        "    self.bpm=0\n",
        "    self.rythm_numerator=0\n",
        "    self.rythm_denominator=0\n",
        "\n",
        "    self.notes=[]\n",
        "\n",
        "    self.PPQ=self.midifile.ticks_per_beat\n",
        "    self.total_ticks=self.set_length_ticks()\n",
        "    self.ending_tick=0\n",
        "\n",
        "    #not explicitly required yet\n",
        "    self.key=''\n",
        "    self.clocks_per_click=0\n",
        "    self.notated_32nd_notes_per_beat=0\n",
        "\n",
        "\n",
        "  def get_midifile(self):\n",
        "    return self.midifile\n",
        "\n",
        "  def set_length_ticks(self):\n",
        "    elapsed_ticks=0\n",
        "    for track in self.midifile.tracks[0]:\n",
        "      elapsed_ticks+=track.time\n",
        "    self.total_ticks=elapsed_ticks\n",
        "\n",
        "  def get_total_ticks(self):\n",
        "    return self.total_ticks\n",
        "  \n",
        "  def get_total_seconds(self):\n",
        "    return mido.tick2second(self.total_ticks,self.PPQ,self.tempo)\n",
        "\n",
        "  def parse_midi_messages(self):\n",
        "\n",
        "    for message in self.midifile.tracks[0]:\n",
        "      message_type=message.type\n",
        "\n",
        "      if message_type==\"set_tempo\":\n",
        "        self.tempo=message.tempo\n",
        "        self.bmp=int(mido.tempo2bpm(self.tempo))\n",
        "\n",
        "      elif message_type==\"time_signature\":\n",
        "        self.rythm_numerator=message.numerator\n",
        "        self.rythm_denominator=message.denominator\n",
        "        self.clocks_per_click=message.clocks_per_click\n",
        "        self.notated_32nd_notes_per_beat=message.notated_32nd_notes_per_beat\n",
        "        \n",
        "      elif message_type==\"key_signature\":\n",
        "        self.key=message.key\n",
        "      \n",
        "      elif message_type==\"end_of_track\":\n",
        "        self.ending_tick=message.time\n",
        "     \n",
        "      else:\n",
        "        #print(f\"Unknown message {message}\")\n",
        "        pass\n",
        "      \n",
        "      #'' Initialize Notes and add them on the self.notes list - ignore program_change and control_change_messages\n",
        "      elif message_type==\"program_change\":\n",
        "        action=\"program_change??\"\n",
        "        channel=message.channel\n",
        "        program=message.program \n",
        "        time=message.time\n",
        "      \n",
        "      elif message_type==\"control_change\":\n",
        "        action=\"control_change??\"\n",
        "        channel=message.channel\n",
        "        control=message.control\n",
        "        value=message.value\n",
        "        time=message.time\n",
        "    \n",
        "      elif message_type==\"note_on\":\n",
        "        action=\"new_note\"\n",
        "        channel=message.channel \n",
        "        note=message.note\n",
        "        note=remap_pitch(note)\n",
        "        velocity=message.velocity\n",
        "        time=message.time\n",
        "      #''\n",
        "      \n",
        "  def get_ms_per_tick(self):\n",
        "    return (60000 / (self.bpm * self.PPQ))\n",
        "'''"
      ],
      "metadata": {
        "id": "XS60Ncr3sv50"
      },
      "execution_count": null,
      "outputs": []
    },
    {
      "cell_type": "code",
      "source": [
        "#make a Note class\n",
        "class Note:\n",
        "  def __init__(self,channel,pitch,velocity,timestamp,duration):\n",
        "    self.channel=channel\n",
        "    self.pitch=self.remap_pitch(pitch)\n",
        "    self.label=self.set_class(self.pitch)\n",
        "    self.velocity=velocity\n",
        "    self.timestamp=timestamp\n",
        "    self.duration=duration\n",
        "    \n",
        "    self.relative_time=0 #in which \n",
        "    \n",
        "  \n",
        "  def get_label(self):\n",
        "    return self.label\n",
        "  def get_pitch(self):\n",
        "    return self.pitch\n",
        "  def get_duration(self):\n",
        "    return self.duration\n",
        "  def get_velocity(self):\n",
        "    return self.velocity\n",
        "  def get_timestamp(self):\n",
        "    return self.timestamp\n",
        "\n",
        "  def remap_pitch(self,pitch):\n",
        "    if pitch==36:\n",
        "      return 36#\"Bass\"\n",
        "    elif pitch in (37,38,40):\n",
        "      return 38#\"Snare\"\n",
        "    elif pitch in (48,50):\n",
        "      return 50#\"High_Tom\"\n",
        "    elif pitch in (45,47):\n",
        "      return 47#\"Low_Mid_Tom\"\n",
        "    elif pitch in (43,58):\n",
        "      return 43#\"High_Floor_Tom\"\n",
        "    elif pitch in (26,46):\n",
        "      return 46#\"Open_Hi_Hat\"\n",
        "    elif pitch in (22,42,44):\n",
        "      return 42#\"Closed_Hi_Hat\"\n",
        "    elif pitch in (49,52,55,57):\n",
        "      return 49#\"Crash_Cymbal\"\n",
        "    elif pitch in (51,53,59):\n",
        "      return 51#\"Ride_Cymbal\"\n",
        "  \n",
        "  def set_class(self,id):\n",
        "    classes={\"Bass\":36,\n",
        "        \"Snare\":38,\n",
        "        \"High_Tom\":50,\n",
        "        \"Low_Mid_Tom\":47,\n",
        "        \"High_Floor_Tom\":43,\n",
        "        \"Open_Hi_Hat\":46,\n",
        "        \"Closed_Hi_Hat\":42,\n",
        "        \"Crash_Cymbal\":49,\n",
        "        \"Ride_Cymbal\":51}\n",
        "\n",
        "    return [k for k,v in classes.items() if v == id][0]\n",
        "  \n",
        "  def tick2second(tick, ticks_per_beat, tempo):\n",
        "    \"\"\"Convert absolute time in ticks to seconds.\n",
        "    Returns absolute time in seconds for a chosen MIDI file time\n",
        "    resolution (ticks per beat, also called PPQN or pulses per quarter\n",
        "    note) and tempo (microseconds per beat).\n",
        "    \"\"\"\n",
        "    scale = tempo * 1e-6 / ticks_per_beat\n",
        "    return tick * scale"
      ],
      "metadata": {
        "id": "FWvWmTZxWn-k"
      },
      "execution_count": 46,
      "outputs": []
    },
    {
      "cell_type": "code",
      "source": [
        "class Midifile:\n",
        "  def __init__(self,filepath):\n",
        "    self.midifile=mido.MidiFile(filepath)\n",
        "    self.PPQ=self.midifile.ticks_per_beat\n",
        "    self.notes=[]\n",
        "    \n",
        "    elapsed_ticks=0\n",
        "    for m,message in enumerate(self.midifile.tracks[0]):\n",
        "      message_type=message.type\n",
        "      \n",
        "      elapsed_ticks+=message.time\n",
        "      print(f'message {m} , time= {message.time} elapsed_ticks={elapsed_ticks}')\n",
        "\n",
        "      if message_type==\"set_tempo\":\n",
        "        self.tempo=message.tempo\n",
        "        self.bpm=int(mido.tempo2bpm(self.tempo))\n",
        "\n",
        "      elif message_type==\"time_signature\":\n",
        "        self.rythm_numerator=message.numerator\n",
        "        self.rythm_denominator=message.denominator\n",
        "        self.clocks_per_click=message.clocks_per_click\n",
        "        self.notated_32nd_notes_per_beat=message.notated_32nd_notes_per_beat\n",
        "        \n",
        "      elif message_type==\"key_signature\":\n",
        "        self.key=message.key\n",
        "      \n",
        "      elif message_type==\"end_of_track\":\n",
        "        self.ending_tick=message.time\n",
        "        self.total_ticks=elapsed_ticks\n",
        "\n",
        "      elif message_type==\"note_on\":\n",
        "        channel=message.channel \n",
        "        pitch=message.note\n",
        "        velocity=message.velocity\n",
        "        time=message.time\n",
        "        #duration=self.midifile.tracks[0][m+1].time\n",
        "        #print(f'duration={self.midifile.tracks[0][m+1].time}')\n",
        "        timestamp=elapsed_ticks\n",
        "        if velocity!=0:\n",
        "          temp_counter=1\n",
        "          duration=0\n",
        "          for msg in self.midifile.tracks[0][m+1:]:\n",
        "            duration+=msg.time\n",
        "            if msg.type==\"note_on\" and msg.note==pitch and msg.velocity==0:\n",
        "              new_note=Note(channel,pitch,velocity,timestamp,duration)\n",
        "              self.notes.append(new_note)\n",
        "              break\n",
        "            else:\n",
        "              print('NoteDurationError')\n",
        "      else:\n",
        "        #print(f\"Unknown message {message}\")\n",
        "        pass\n",
        "\n",
        "    \n",
        "\n",
        "    #self.total_ticks=self.set_length_ticks()\n",
        "    #self.ending_tick=0\n",
        "\n",
        "   #not explicitly required yet\n",
        "    #self.key=''\n",
        "    #self.clocks_per_click=0\n",
        "    #self.notated_32nd_notes_per_beat=0\n",
        "\n",
        "  def get_midifile(self):\n",
        "    return self.midifile\n",
        "  def get_tempo(self):\n",
        "    return self.tempo\n",
        "  def get_bpm(self):\n",
        "    return self.bpm\n",
        "  def get_rythm_numerator(self):\n",
        "    return self.rythm_numerator\n",
        "  def get_rythm_denominator(self):\n",
        "    return self.rythm_denominator\n",
        "  \n",
        "  def get_note(self,idx):\n",
        "    return self.notes[idx]\n",
        "  \n",
        "  def get_num_notes(self):\n",
        "    return len(self.notes)\n",
        "\n",
        "  def get_total_ticks(self):\n",
        "    return self.total_ticks\n",
        "  \n",
        "  def get_total_seconds(self):\n",
        "    return mido.tick2second(self.total_ticks,self.PPQ,self.tempo)\n",
        "\n",
        "  def parse_midi_messages(self):\n",
        "\n",
        "    for message in self.midifile.tracks[0]:\n",
        "      message_type=message.type\n",
        "\n",
        "      if message_type==\"set_tempo\":\n",
        "        self.tempo=message.tempo\n",
        "        self.bmp=int(mido.tempo2bpm(self.tempo))\n",
        "\n",
        "      elif message_type==\"time_signature\":\n",
        "        self.rythm_numerator=message.numerator\n",
        "        self.rythm_denominator=message.denominator\n",
        "        self.clocks_per_click=message.clocks_per_click\n",
        "        self.notated_32nd_notes_per_beat=message.notated_32nd_notes_per_beat\n",
        "        \n",
        "      elif message_type==\"key_signature\":\n",
        "        self.key=message.key\n",
        "      \n",
        "      elif message_type==\"end_of_track\":\n",
        "        self.ending_tick=message.time\n",
        "     \n",
        "      else:\n",
        "        #print(f\"Unknown message {message}\")\n",
        "        pass\n",
        "      \n",
        "      ''' Initialize Notes and add them on the self.notes list - ignore program_change and control_change_messages\n",
        "      elif message_type==\"program_change\":\n",
        "        action=\"program_change??\"\n",
        "        channel=message.channel\n",
        "        program=message.program \n",
        "        time=message.time\n",
        "      \n",
        "      elif message_type==\"control_change\":\n",
        "        action=\"control_change??\"\n",
        "        channel=message.channel\n",
        "        control=message.control\n",
        "        value=message.value\n",
        "        time=message.time\n",
        "    \n",
        "      elif message_type==\"note_on\":\n",
        "        action=\"new_note\"\n",
        "        channel=message.channel \n",
        "        note=message.note\n",
        "        note=remap_pitch(note)\n",
        "        velocity=message.velocity\n",
        "        time=message.time\n",
        "      '''\n",
        "      \n",
        "  def get_ms_per_tick(self):\n",
        "    return (60000 / (self.bpm * self.PPQ))"
      ],
      "metadata": {
        "id": "4iFbZJrideKL"
      },
      "execution_count": 44,
      "outputs": []
    },
    {
      "cell_type": "code",
      "source": [
        "test_midi=Midifile(sample_midi_path)\n",
        "test_midi.parse_midi_messages()\n",
        "print(test_midi.get_tempo())\n",
        "print(test_midi.get_bpm())"
      ],
      "metadata": {
        "colab": {
          "base_uri": "https://localhost:8080/"
        },
        "id": "HUiaUhfmaNJX",
        "outputId": "cbdbc21e-cbf7-4355-c68d-b81c274aca31"
      },
      "execution_count": 47,
      "outputs": [
        {
          "output_type": "stream",
          "name": "stdout",
          "text": [
            "message 0 , time= 0 elapsed_ticks=0\n",
            "message 1 , time= 0 elapsed_ticks=0\n",
            "message 2 , time= 0 elapsed_ticks=0\n",
            "message 3 , time= 0 elapsed_ticks=0\n",
            "message 4 , time= 0 elapsed_ticks=0\n",
            "message 5 , time= 0 elapsed_ticks=0\n",
            "message 6 , time= 204 elapsed_ticks=204\n",
            "message 7 , time= 203 elapsed_ticks=407\n",
            "message 8 , time= 203 elapsed_ticks=610\n",
            "message 9 , time= 203 elapsed_ticks=813\n",
            "message 10 , time= 205 elapsed_ticks=1018\n",
            "message 11 , time= 203 elapsed_ticks=1221\n",
            "message 12 , time= 203 elapsed_ticks=1424\n",
            "message 13 , time= 203 elapsed_ticks=1627\n",
            "message 14 , time= 196 elapsed_ticks=1823\n",
            "NoteDurationError\n",
            "message 15 , time= 8 elapsed_ticks=1831\n",
            "message 16 , time= 37 elapsed_ticks=1868\n",
            "message 17 , time= 0 elapsed_ticks=1868\n",
            "message 18 , time= 31 elapsed_ticks=1899\n",
            "message 19 , time= 50 elapsed_ticks=1949\n",
            "message 20 , time= 77 elapsed_ticks=2026\n",
            "message 21 , time= 8 elapsed_ticks=2034\n",
            "message 22 , time= 16 elapsed_ticks=2050\n",
            "message 23 , time= 77 elapsed_ticks=2127\n",
            "message 24 , time= 33 elapsed_ticks=2160\n",
            "NoteDurationError\n",
            "message 25 , time= 77 elapsed_ticks=2237\n",
            "message 26 , time= 0 elapsed_ticks=2237\n",
            "message 27 , time= 18 elapsed_ticks=2255\n",
            "message 28 , time= 17 elapsed_ticks=2272\n",
            "NoteDurationError\n",
            "NoteDurationError\n",
            "message 29 , time= 1 elapsed_ticks=2273\n",
            "message 30 , time= 12 elapsed_ticks=2285\n",
            "message 31 , time= 63 elapsed_ticks=2348\n",
            "message 32 , time= 25 elapsed_ticks=2373\n",
            "message 33 , time= 13 elapsed_ticks=2386\n",
            "NoteDurationError\n",
            "message 34 , time= 75 elapsed_ticks=2461\n",
            "message 35 , time= 2 elapsed_ticks=2463\n",
            "message 36 , time= 29 elapsed_ticks=2492\n",
            "NoteDurationError\n",
            "NoteDurationError\n",
            "message 37 , time= 17 elapsed_ticks=2509\n",
            "NoteDurationError\n",
            "NoteDurationError\n",
            "message 38 , time= 41 elapsed_ticks=2550\n",
            "message 39 , time= 19 elapsed_ticks=2569\n",
            "message 40 , time= 17 elapsed_ticks=2586\n",
            "message 41 , time= 10 elapsed_ticks=2596\n",
            "NoteDurationError\n",
            "message 42 , time= 41 elapsed_ticks=2637\n",
            "message 43 , time= 36 elapsed_ticks=2673\n",
            "message 44 , time= 52 elapsed_ticks=2725\n",
            "message 45 , time= 12 elapsed_ticks=2737\n",
            "message 46 , time= 76 elapsed_ticks=2813\n",
            "message 47 , time= 1 elapsed_ticks=2814\n",
            "message 48 , time= 40 elapsed_ticks=2854\n",
            "NoteDurationError\n",
            "NoteDurationError\n",
            "message 49 , time= 48 elapsed_ticks=2902\n",
            "message 50 , time= 18 elapsed_ticks=2920\n",
            "message 51 , time= 11 elapsed_ticks=2931\n",
            "message 52 , time= 7 elapsed_ticks=2938\n",
            "message 53 , time= 7 elapsed_ticks=2945\n",
            "message 54 , time= 18 elapsed_ticks=2963\n",
            "message 55 , time= 4 elapsed_ticks=2967\n",
            "NoteDurationError\n",
            "NoteDurationError\n",
            "NoteDurationError\n",
            "NoteDurationError\n",
            "NoteDurationError\n",
            "message 56 , time= 14 elapsed_ticks=2981\n",
            "message 57 , time= 0 elapsed_ticks=2981\n",
            "message 58 , time= 19 elapsed_ticks=3000\n",
            "message 59 , time= 17 elapsed_ticks=3017\n",
            "message 60 , time= 18 elapsed_ticks=3035\n",
            "message 61 , time= 8 elapsed_ticks=3043\n",
            "message 62 , time= 10 elapsed_ticks=3053\n",
            "message 63 , time= 18 elapsed_ticks=3071\n",
            "message 64 , time= 3 elapsed_ticks=3074\n",
            "message 65 , time= 14 elapsed_ticks=3088\n",
            "NoteDurationError\n",
            "NoteDurationError\n",
            "NoteDurationError\n",
            "message 66 , time= 4 elapsed_ticks=3092\n",
            "message 67 , time= 18 elapsed_ticks=3110\n",
            "message 68 , time= 1 elapsed_ticks=3111\n",
            "message 69 , time= 54 elapsed_ticks=3165\n",
            "message 70 , time= 29 elapsed_ticks=3194\n",
            "message 71 , time= 76 elapsed_ticks=3270\n",
            "message 72 , time= 3 elapsed_ticks=3273\n",
            "message 73 , time= 56 elapsed_ticks=3329\n",
            "message 74 , time= 77 elapsed_ticks=3406\n",
            "message 75 , time= 27 elapsed_ticks=3433\n",
            "message 76 , time= 162 elapsed_ticks=3595\n",
            "message 77 , time= 160 elapsed_ticks=3755\n",
            "message 78 , time= 161 elapsed_ticks=3916\n",
            "message 79 , time= 161 elapsed_ticks=4077\n",
            "message 80 , time= 161 elapsed_ticks=4238\n",
            "message 81 , time= 161 elapsed_ticks=4399\n",
            "message 82 , time= 161 elapsed_ticks=4560\n",
            "message 83 , time= 1 elapsed_ticks=4561\n",
            "631578\n",
            "95\n"
          ]
        }
      ]
    },
    {
      "cell_type": "code",
      "source": [
        "num=test_midi.get_num_notes()\n",
        "for i in range(num):\n",
        "  n=test_midi.get_note(i)\n",
        "  print(f'note {i+1}--> label:{n.get_label()}, timestamp:{n.get_timestamp()}/{test_midi.get_total_ticks()}, duration: {n.get_duration()}, pitch:{n.get_pitch()}, velocity:{n.get_velocity()}')"
      ],
      "metadata": {
        "colab": {
          "base_uri": "https://localhost:8080/"
        },
        "id": "lVdXaG90ibg5",
        "outputId": "698724d0-2536-4cce-832e-1052f7d59451"
      },
      "execution_count": 48,
      "outputs": [
        {
          "output_type": "stream",
          "name": "stdout",
          "text": [
            "note 1--> label:Snare, timestamp:1823/4561, duration: 45, pitch:38, velocity:21\n",
            "note 2--> label:Snare, timestamp:1868/4561, duration: 31, pitch:38, velocity:38\n",
            "note 3--> label:Snare, timestamp:1949/4561, duration: 77, pitch:38, velocity:88\n",
            "note 4--> label:Snare, timestamp:2050/4561, duration: 77, pitch:38, velocity:81\n",
            "note 5--> label:Snare, timestamp:2160/4561, duration: 77, pitch:38, velocity:56\n",
            "note 6--> label:Snare, timestamp:2272/4561, duration: 76, pitch:38, velocity:74\n",
            "note 7--> label:Snare, timestamp:2386/4561, duration: 77, pitch:38, velocity:67\n",
            "note 8--> label:Bass, timestamp:2492/4561, duration: 77, pitch:36, velocity:52\n",
            "note 9--> label:Open_Hi_Hat, timestamp:2509/4561, duration: 77, pitch:46, velocity:83\n",
            "note 10--> label:Closed_Hi_Hat, timestamp:2596/4561, duration: 77, pitch:42, velocity:85\n",
            "note 11--> label:High_Tom, timestamp:2737/4561, duration: 76, pitch:50, velocity:92\n",
            "note 12--> label:High_Tom, timestamp:2854/4561, duration: 77, pitch:50, velocity:98\n",
            "note 13--> label:High_Tom, timestamp:2967/4561, duration: 76, pitch:50, velocity:103\n",
            "note 14--> label:High_Tom, timestamp:3088/4561, duration: 77, pitch:50, velocity:101\n",
            "note 15--> label:Bass, timestamp:3194/4561, duration: 76, pitch:36, velocity:51\n",
            "note 16--> label:High_Floor_Tom, timestamp:3329/4561, duration: 77, pitch:43, velocity:127\n"
          ]
        }
      ]
    },
    {
      "cell_type": "markdown",
      "source": [
        "# read midi files"
      ],
      "metadata": {
        "id": "DLYk_Xb9Y6oP"
      }
    },
    {
      "cell_type": "code",
      "source": [
        "#read midi files using info.csv\n",
        "csvpath=os.path.join(datapath,'info.csv')\n",
        "csvfile=pd.read_csv(csvpath,header=None)\n",
        "print(csvfile)\n",
        "print(type(csvfile))"
      ],
      "metadata": {
        "colab": {
          "base_uri": "https://localhost:8080/"
        },
        "id": "piYWMzxLa7cX",
        "outputId": "543af78d-e71f-4951-e3df-b74f51944d79"
      },
      "execution_count": null,
      "outputs": [
        {
          "output_type": "stream",
          "name": "stdout",
          "text": [
            "            0                      1                         2   \\\n",
            "0      drummer                session                        id   \n",
            "1     drummer1  drummer1/eval_session   drummer1/eval_session/1   \n",
            "2     drummer1  drummer1/eval_session  drummer1/eval_session/10   \n",
            "3     drummer1  drummer1/eval_session   drummer1/eval_session/2   \n",
            "4     drummer1  drummer1/eval_session   drummer1/eval_session/3   \n",
            "...        ...                    ...                       ...   \n",
            "1146  drummer2      drummer2/session2      drummer2/session2/11   \n",
            "1147  drummer2      drummer2/session2      drummer2/session2/12   \n",
            "1148  drummer2      drummer2/session2      drummer2/session2/13   \n",
            "1149  drummer2      drummer2/session2      drummer2/session2/14   \n",
            "1150  drummer2      drummer2/session2      drummer2/session2/15   \n",
            "\n",
            "                 3    4          5               6   \\\n",
            "0             style  bpm  beat_type  time_signature   \n",
            "1      funk/groove1  138       beat             4-4   \n",
            "2     soul/groove10  102       beat             4-4   \n",
            "3      funk/groove2  105       beat             4-4   \n",
            "4      soul/groove3   86       beat             4-4   \n",
            "...             ...  ...        ...             ...   \n",
            "1146           rock  130       beat             4-4   \n",
            "1147           rock  130       beat             4-4   \n",
            "1148           rock  130       beat             4-4   \n",
            "1149           rock  130       beat             4-4   \n",
            "1150           rock  130       beat             4-4   \n",
            "\n",
            "                                                     7   \\\n",
            "0                                         midi_filename   \n",
            "1     drummer1/eval_session/1_funk-groove1_138_beat_...   \n",
            "2     drummer1/eval_session/10_soul-groove10_102_bea...   \n",
            "3     drummer1/eval_session/2_funk-groove2_105_beat_...   \n",
            "4     drummer1/eval_session/3_soul-groove3_86_beat_4...   \n",
            "...                                                 ...   \n",
            "1146         drummer2/session2/11_rock_130_beat_4-4.mid   \n",
            "1147         drummer2/session2/12_rock_130_beat_4-4.mid   \n",
            "1148         drummer2/session2/13_rock_130_beat_4-4.mid   \n",
            "1149         drummer2/session2/14_rock_130_beat_4-4.mid   \n",
            "1150         drummer2/session2/15_rock_130_beat_4-4.mid   \n",
            "\n",
            "                                                     8          9      10  \n",
            "0                                        audio_filename   duration  split  \n",
            "1     drummer1/eval_session/1_funk-groove1_138_beat_...  27.872308   test  \n",
            "2     drummer1/eval_session/10_soul-groove10_102_bea...  37.691158   test  \n",
            "3     drummer1/eval_session/2_funk-groove2_105_beat_...  36.351218   test  \n",
            "4     drummer1/eval_session/3_soul-groove3_86_beat_4...  44.716543   test  \n",
            "...                                                 ...        ...    ...  \n",
            "1146                                                NaN   1.909613  train  \n",
            "1147                                                NaN   1.808652  train  \n",
            "1148                                                NaN   1.864421  train  \n",
            "1149                                                NaN   1.875960  train  \n",
            "1150                                                NaN   3.714419  train  \n",
            "\n",
            "[1151 rows x 11 columns]\n",
            "<class 'pandas.core.frame.DataFrame'>\n"
          ]
        }
      ]
    },
    {
      "cell_type": "code",
      "source": [
        "midipaths=[]\n",
        "#read midi files by iteratin through the folders\n",
        "for folder in os.listdir(datapath):\n",
        "  print (f'folder {folder}')\n",
        "  folderpath=os.path.join(datapath,folder)\n",
        "  if os.path.isdir(folderpath):\n",
        "    for session_folder in os.listdir(folderpath):\n",
        "      print(f'\\tsession_folder {session_folder}')\n",
        "      session_folderpath=os.path.join(folderpath,session_folder)\n",
        "      if os.path.isdir(session_folderpath):\n",
        "        for midifile in os.listdir(session_folderpath):\n",
        "          #print('\\t\\t\\t',midifile)\n",
        "          midipath=os.path.join(midifile,session_folder)\n",
        "          if midifile[-4:]=='.mid':\n",
        "            midipaths.append(midipath)\n",
        "print(f'{len(midipaths)} midifiles are found')"
      ],
      "metadata": {
        "colab": {
          "base_uri": "https://localhost:8080/"
        },
        "id": "7XOKYiGiZJ5u",
        "outputId": "de77d1df-390f-4d70-ccd4-88d2163859a3"
      },
      "execution_count": null,
      "outputs": [
        {
          "output_type": "stream",
          "name": "stdout",
          "text": [
            "folder README\n",
            "folder info.csv\n",
            "folder Icon\n",
            "folder drummer1\n",
            "\tsession_folder Icon\n",
            "\tsession_folder eval_session\n",
            "\tsession_folder session2\n",
            "\tsession_folder session1\n",
            "\tsession_folder session3\n",
            "folder drummer10\n",
            "\tsession_folder Icon\n",
            "\tsession_folder session1\n",
            "folder drummer3\n",
            "\tsession_folder Icon\n",
            "\tsession_folder session2\n",
            "\tsession_folder session1\n",
            "folder drummer2\n",
            "\tsession_folder Icon\n",
            "\tsession_folder session1\n",
            "\tsession_folder session2\n",
            "\tsession_folder session3\n",
            "folder drummer4\n",
            "\tsession_folder Icon\n",
            "\tsession_folder session1\n",
            "folder drummer5\n",
            "\tsession_folder Icon\n",
            "\tsession_folder eval_session\n",
            "\tsession_folder session1\n",
            "\tsession_folder session2\n",
            "folder drummer7\n",
            "\tsession_folder Icon\n",
            "\tsession_folder eval_session\n",
            "\tsession_folder session1\n",
            "\tsession_folder session2\n",
            "\tsession_folder session3\n",
            "folder drummer6\n",
            "\tsession_folder Icon\n",
            "\tsession_folder session1\n",
            "\tsession_folder session2\n",
            "\tsession_folder session3\n",
            "folder drummer8\n",
            "\tsession_folder Icon\n",
            "\tsession_folder eval_session\n",
            "\tsession_folder session1\n",
            "\tsession_folder session2\n",
            "folder drummer9\n",
            "\tsession_folder Icon\n",
            "\tsession_folder session1\n",
            "folder LICENSE\n",
            "1150 midifiles are found\n"
          ]
        }
      ]
    },
    {
      "cell_type": "code",
      "source": [
        "elapsed_ticks=0\n",
        "for i,track in enumerate(mid.tracks[0]):\n",
        "  method,values,ticks_passed=parse_midi_message(track)\n",
        "  elapsed_ticks+=ticks_passed\n",
        "  if method==\"new_note\":\n",
        "    print(f'note:{get_class_string(values[1])},velocity:{values[2]},time:{values[3]}')\n",
        "\n",
        "print(f' Ticks elapsed = {elapsed_ticks}')"
      ],
      "metadata": {
        "id": "OIkgNhH1n42v",
        "colab": {
          "base_uri": "https://localhost:8080/"
        },
        "outputId": "53e720f8-a03d-4ffb-8805-c126a458a5c3"
      },
      "execution_count": null,
      "outputs": [
        {
          "output_type": "stream",
          "name": "stdout",
          "text": [
            "note:Snare,velocity:21,time:196\n",
            "note:Snare,velocity:0,time:37\n",
            "note:Snare,velocity:38,time:0\n",
            "note:Snare,velocity:0,time:31\n",
            "note:Snare,velocity:88,time:50\n",
            "note:Snare,velocity:0,time:77\n",
            "note:Snare,velocity:81,time:16\n",
            "note:Snare,velocity:0,time:77\n",
            "note:Snare,velocity:56,time:33\n",
            "note:Snare,velocity:0,time:0\n",
            "note:Snare,velocity:74,time:17\n",
            "note:Snare,velocity:0,time:63\n",
            "note:Snare,velocity:67,time:13\n",
            "note:Snare,velocity:0,time:2\n",
            "note:Bass,velocity:52,time:29\n",
            "note:Open_Hi_Hat,velocity:83,time:17\n",
            "note:Bass,velocity:0,time:19\n",
            "note:Open_Hi_Hat,velocity:0,time:17\n",
            "note:Closed_Hi_Hat,velocity:85,time:10\n",
            "note:Closed_Hi_Hat,velocity:0,time:36\n",
            "note:High_Tom,velocity:92,time:12\n",
            "note:High_Tom,velocity:0,time:76\n",
            "note:High_Tom,velocity:98,time:40\n",
            "note:High_Tom,velocity:0,time:11\n",
            "note:High_Tom,velocity:103,time:4\n",
            "note:High_Tom,velocity:0,time:8\n",
            "note:High_Tom,velocity:101,time:14\n",
            "note:High_Tom,velocity:0,time:54\n",
            "note:Bass,velocity:51,time:29\n",
            "note:Bass,velocity:0,time:76\n",
            "note:High_Floor_Tom,velocity:127,time:56\n",
            "note:High_Floor_Tom,velocity:0,time:77\n",
            " Ticks elapsed = 4561\n"
          ]
        }
      ]
    },
    {
      "cell_type": "code",
      "source": [
        "for msg in mid.tracks[0]:\n",
        "    print(msg)"
      ],
      "metadata": {
        "id": "g_po6qp1KaIS",
        "colab": {
          "base_uri": "https://localhost:8080/"
        },
        "outputId": "0703956d-8e5d-479b-9201-ee52b8ebdf7b"
      },
      "execution_count": null,
      "outputs": [
        {
          "output_type": "stream",
          "name": "stdout",
          "text": [
            "<meta message set_tempo tempo=631578 time=0>\n",
            "<meta message time_signature numerator=4 denominator=4 clocks_per_click=24 notated_32nd_notes_per_beat=8 time=0>\n",
            "<meta message key_signature key='C' time=0>\n",
            "program_change channel=9 program=0 time=0\n",
            "control_change channel=9 control=4 value=89 time=0\n",
            "program_change channel=9 program=0 time=0\n",
            "control_change channel=9 control=4 value=88 time=204\n",
            "control_change channel=9 control=4 value=87 time=203\n",
            "control_change channel=9 control=4 value=86 time=203\n",
            "control_change channel=9 control=4 value=85 time=203\n",
            "control_change channel=9 control=4 value=84 time=205\n",
            "control_change channel=9 control=4 value=83 time=203\n",
            "control_change channel=9 control=4 value=82 time=203\n",
            "control_change channel=9 control=4 value=81 time=203\n",
            "note_on channel=9 note=38 velocity=21 time=196\n",
            "control_change channel=9 control=4 value=80 time=8\n",
            "note_on channel=9 note=38 velocity=0 time=37\n",
            "note_on channel=9 note=38 velocity=38 time=0\n",
            "note_on channel=9 note=38 velocity=0 time=31\n",
            "note_on channel=9 note=37 velocity=88 time=50\n",
            "note_on channel=9 note=37 velocity=0 time=77\n",
            "control_change channel=9 control=4 value=79 time=8\n",
            "note_on channel=9 note=38 velocity=81 time=16\n",
            "note_on channel=9 note=38 velocity=0 time=77\n",
            "note_on channel=9 note=38 velocity=56 time=33\n",
            "control_change channel=9 control=4 value=78 time=77\n",
            "note_on channel=9 note=38 velocity=0 time=0\n",
            "control_change channel=9 control=4 value=82 time=18\n",
            "note_on channel=9 note=38 velocity=74 time=17\n",
            "control_change channel=9 control=4 value=87 time=1\n",
            "control_change channel=9 control=4 value=90 time=12\n",
            "note_on channel=9 note=38 velocity=0 time=63\n",
            "control_change channel=9 control=4 value=89 time=25\n",
            "note_on channel=9 note=38 velocity=67 time=13\n",
            "control_change channel=9 control=4 value=88 time=75\n",
            "note_on channel=9 note=38 velocity=0 time=2\n",
            "note_on channel=9 note=36 velocity=52 time=29\n",
            "note_on channel=9 note=26 velocity=83 time=17\n",
            "control_change channel=9 control=4 value=87 time=41\n",
            "note_on channel=9 note=36 velocity=0 time=19\n",
            "note_on channel=9 note=26 velocity=0 time=17\n",
            "note_on channel=9 note=44 velocity=85 time=10\n",
            "control_change channel=9 control=4 value=86 time=41\n",
            "note_on channel=9 note=44 velocity=0 time=36\n",
            "control_change channel=9 control=4 value=85 time=52\n",
            "note_on channel=9 note=48 velocity=92 time=12\n",
            "note_on channel=9 note=48 velocity=0 time=76\n",
            "control_change channel=9 control=4 value=84 time=1\n",
            "note_on channel=9 note=48 velocity=98 time=40\n",
            "control_change channel=9 control=4 value=83 time=48\n",
            "control_change channel=9 control=4 value=67 time=18\n",
            "note_on channel=9 note=48 velocity=0 time=11\n",
            "control_change channel=9 control=4 value=50 time=7\n",
            "control_change channel=9 control=4 value=43 time=7\n",
            "control_change channel=9 control=4 value=22 time=18\n",
            "note_on channel=9 note=48 velocity=103 time=4\n",
            "control_change channel=9 control=4 value=0 time=14\n",
            "control_change channel=9 control=4 value=1 time=0\n",
            "control_change channel=9 control=4 value=3 time=19\n",
            "control_change channel=9 control=4 value=6 time=17\n",
            "control_change channel=9 control=4 value=9 time=18\n",
            "note_on channel=9 note=48 velocity=0 time=8\n",
            "control_change channel=9 control=4 value=12 time=10\n",
            "control_change channel=9 control=4 value=15 time=18\n",
            "control_change channel=9 control=4 value=16 time=3\n",
            "note_on channel=9 note=48 velocity=101 time=14\n",
            "control_change channel=9 control=4 value=51 time=4\n",
            "control_change channel=9 control=4 value=87 time=18\n",
            "control_change channel=9 control=4 value=90 time=1\n",
            "note_on channel=9 note=48 velocity=0 time=54\n",
            "note_on channel=9 note=36 velocity=51 time=29\n",
            "note_on channel=9 note=36 velocity=0 time=76\n",
            "control_change channel=9 control=4 value=89 time=3\n",
            "note_on channel=9 note=43 velocity=127 time=56\n",
            "note_on channel=9 note=43 velocity=0 time=77\n",
            "control_change channel=9 control=4 value=88 time=27\n",
            "control_change channel=9 control=4 value=87 time=162\n",
            "control_change channel=9 control=4 value=86 time=160\n",
            "control_change channel=9 control=4 value=85 time=161\n",
            "control_change channel=9 control=4 value=84 time=161\n",
            "control_change channel=9 control=4 value=83 time=161\n",
            "control_change channel=9 control=4 value=82 time=161\n",
            "control_change channel=9 control=4 value=81 time=161\n",
            "<meta message end_of_track time=1>\n"
          ]
        }
      ]
    },
    {
      "cell_type": "code",
      "source": [
        "#60000 / (BPM * PPQ)(miliseconds)\n",
        "PPQ=ticks_per_beat=mid.ticks_per_beat\n",
        "ms_per_tick=(60000 / (95 * PPQ))\n",
        "print(f' miliseconds per tick = {ms_per_tick}')\n",
        "\n",
        "#mido.tick2second(tick, ticks_per_beat, tempo)\n",
        "tick=elapsed_ticks\n",
        "tempo=631578\n",
        "total_seconds=tick2second(tick,ticks_per_beat,tempo)\n",
        "print(total_seconds)"
      ],
      "metadata": {
        "colab": {
          "base_uri": "https://localhost:8080/"
        },
        "id": "nB0O2DpOYic5",
        "outputId": "bd068278-5a58-4a5a-83c4-1aa0c5743f28"
      },
      "execution_count": null,
      "outputs": [
        {
          "output_type": "stream",
          "name": "stdout",
          "text": [
            "1.3157894736842106\n",
            "6.001306787499999\n"
          ]
        }
      ]
    },
    {
      "cell_type": "code",
      "source": [
        "# how to calculate bpm ? How to determine time of note-on?\n",
        "total_ticks=631578\n",
        "ticks_per_beat=24\n",
        "beats_per_quarter=4\n",
        "quarters=8\n",
        "print(((60 * 1000000) /total_ticks)) # # One minute is 60 million microseconds."
      ],
      "metadata": {
        "colab": {
          "base_uri": "https://localhost:8080/"
        },
        "outputId": "34a1e21d-a36b-4a81-82e6-97a694882a09",
        "id": "eXm_xmxFZTPT"
      },
      "execution_count": null,
      "outputs": [
        {
          "output_type": "stream",
          "name": "stdout",
          "text": [
            "95.00014250021376\n"
          ]
        }
      ]
    },
    {
      "cell_type": "code",
      "source": [
        "print(mido.tick2second(elapsed_time,ticks_per_beat,total_ticks))\n",
        "\n",
        "scale=total_ticks * 1e-6 / ticks_per_beat\n",
        "print(elapsed_time*scale)\n",
        "\n",
        "print(total_ticks*(60000 /(95 * 24)))"
      ],
      "metadata": {
        "colab": {
          "base_uri": "https://localhost:8080/"
        },
        "id": "B8lpw8YjS6AA",
        "outputId": "8b69e323-8fa5-4c93-e1cd-497ec27679ee"
      },
      "execution_count": null,
      "outputs": [
        {
          "output_type": "stream",
          "name": "stdout",
          "text": [
            "120.02613575\n",
            "120.02613575\n",
            "277.0078947368421\n"
          ]
        }
      ]
    },
    {
      "cell_type": "code",
      "source": [
        "import mido\n",
        "totalElapsedTime = mido.tick2second(4561, 24, total_ticks)\n",
        "print(totalElapsedTime)"
      ],
      "metadata": {
        "colab": {
          "base_uri": "https://localhost:8080/"
        },
        "id": "jejmtw7fQWx7",
        "outputId": "f92cb830-ea69-494c-be6a-fde3a57904ff"
      },
      "execution_count": null,
      "outputs": [
        {
          "output_type": "stream",
          "name": "stdout",
          "text": [
            "360.07840725\n"
          ]
        }
      ]
    },
    {
      "cell_type": "markdown",
      "source": [
        "# list all files"
      ],
      "metadata": {
        "id": "kNHR0uipszI2"
      }
    },
    {
      "cell_type": "code",
      "source": [
        "print(len(midipaths))\n",
        "print(len(audiopaths))\n",
        "print(len(list(set(midipaths))))\n",
        "print(len(list(set(audiopaths))))"
      ],
      "metadata": {
        "colab": {
          "base_uri": "https://localhost:8080/"
        },
        "id": "40Ej2twCxIvP",
        "outputId": "3ddbb86e-6143-4d32-f382-101b1b1723e9"
      },
      "execution_count": null,
      "outputs": [
        {
          "output_type": "stream",
          "name": "stdout",
          "text": [
            "1150\n",
            "1150\n",
            "1150\n",
            "1091\n"
          ]
        }
      ]
    },
    {
      "cell_type": "code",
      "source": [
        "def get_data_subpaths(datapath):\n",
        "  folders=[]\n",
        "  for c in os.listdir(datapath):\n",
        "    subpath=os.path.join(datapath,c)\n",
        "    if (os.path.isdir(subpath)):\n",
        "      #print(f'{subpath} is a folder')\n",
        "      folders.append(subpath)\n",
        "    elif (c==\"info.csv\"):\n",
        "      #print(f\"{subpath} is the annotation file\")\n",
        "      csv_path=subpath\n",
        "    else:\n",
        "      #print(f'{c} is an irrelevant file - not of my concern!')\n",
        "      pass\n",
        "  return csv_path,folders\n",
        "\n",
        "def read_csv(csv_path):\n",
        "  midipaths,audiopaths,bpms,durations,splits,beat_types,sessions=[],[],[],[],[],[],[]\n",
        "  csv=pd.read_csv(csv_path)  \n",
        "  #print(csv.shape)\n",
        "  idxs = csv.index.values.tolist()\n",
        "  for i,idx in enumerate(idxs):\n",
        "    #print(f'index {idx}, value {csv.loc[idx,:]}')\n",
        "    midipaths.append(os.path.join(datapath,csv.loc[idx,\"midi_filename\"]))\n",
        "    #audio_filename=csv.loc[idx,\"audio_filename\"])\n",
        "    try:\n",
        "      audiopaths.append(os.path.join(datapath,csv.loc[idx,\"audio_filename\"]))\n",
        "    except TypeError:\n",
        "      audiopaths.append(\"-\")\n",
        "    bpms.append(csv.loc[idx,\"bpm\"])\n",
        "    durations.append(csv.loc[idx,\"duration\"])\n",
        "    splits.append(csv.loc[idx,\"split\"])\n",
        "    beat_types.append(csv.loc[idx,\"beat_type\"])\n",
        "    sessions.append(csv.loc[idx,\"session\"])\n",
        "  return midipaths,audiopaths,bpms,durations,splits,beat_types,sessions\n",
        "  \n",
        "csv_path,data_folders=get_data_subpaths(datapath)\n",
        "midipaths,audiopaths,bpms,durations,splits,beat_types,sessions=read_csv(csv_path)\n",
        "#for subf in data_folders:\n",
        "#  print(os.listdir(subf))"
      ],
      "metadata": {
        "id": "vC14XChIsyrm"
      },
      "execution_count": null,
      "outputs": []
    }
  ]
}