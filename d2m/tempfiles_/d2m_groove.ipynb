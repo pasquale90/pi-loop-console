{
 "cells": [
  {
   "cell_type": "markdown",
   "metadata": {
    "colab_type": "text",
    "id": "view-in-github"
   },
   "source": [
    "<a href=\"https://colab.research.google.com/github/pasquale90/pi-loop-console/blob/dev-v.0.2/d2m_groove.ipynb\" target=\"_parent\"><img src=\"https://colab.research.google.com/assets/colab-badge.svg\" alt=\"Open In Colab\"/></a>"
   ]
  },
  {
   "cell_type": "code",
   "execution_count": 1,
   "metadata": {
    "colab": {
     "base_uri": "https://localhost:8080/"
    },
    "id": "J_Yzpp7k1Jyq",
    "outputId": "72c8b686-f0a3-4b24-c5fd-2fa87a037ae9"
   },
   "outputs": [
    {
     "ename": "ModuleNotFoundError",
     "evalue": "No module named 'google.colab'",
     "output_type": "error",
     "traceback": [
      "\u001b[0;31m---------------------------------------------------------------------------\u001b[0m",
      "\u001b[0;31mModuleNotFoundError\u001b[0m                       Traceback (most recent call last)",
      "\u001b[0;32m<ipython-input-1-41f5e53a208b>\u001b[0m in \u001b[0;36m<module>\u001b[0;34m\u001b[0m\n\u001b[0;32m----> 1\u001b[0;31m \u001b[0;32mfrom\u001b[0m \u001b[0mgoogle\u001b[0m\u001b[0;34m.\u001b[0m\u001b[0mcolab\u001b[0m \u001b[0;32mimport\u001b[0m \u001b[0mdrive\u001b[0m\u001b[0;34m\u001b[0m\u001b[0;34m\u001b[0m\u001b[0m\n\u001b[0m\u001b[1;32m      2\u001b[0m \u001b[0mgdrive\u001b[0m\u001b[0;34m=\u001b[0m\u001b[0;34m'/content/gdrive'\u001b[0m\u001b[0;34m\u001b[0m\u001b[0;34m\u001b[0m\u001b[0m\n\u001b[1;32m      3\u001b[0m \u001b[0mdrive\u001b[0m\u001b[0;34m.\u001b[0m\u001b[0mmount\u001b[0m\u001b[0;34m(\u001b[0m\u001b[0mgdrive\u001b[0m\u001b[0;34m,\u001b[0m \u001b[0mforce_remount\u001b[0m\u001b[0;34m=\u001b[0m\u001b[0;32mTrue\u001b[0m\u001b[0;34m)\u001b[0m\u001b[0;34m\u001b[0m\u001b[0;34m\u001b[0m\u001b[0m\n",
      "\u001b[0;31mModuleNotFoundError\u001b[0m: No module named 'google.colab'"
     ]
    }
   ],
   "source": [
    "from google.colab import drive\n",
    "gdrive='/content/gdrive'\n",
    "drive.mount(gdrive, force_remount=True)"
   ]
  },
  {
   "cell_type": "markdown",
   "metadata": {
    "id": "o-cNYo-0D7xN"
   },
   "source": [
    "#Download dataset"
   ]
  },
  {
   "cell_type": "code",
   "execution_count": null,
   "metadata": {
    "colab": {
     "base_uri": "https://localhost:8080/",
     "height": 72
    },
    "collapsed": true,
    "id": "6pi_5IM2249l",
    "outputId": "e9563a8a-c6bd-40e5-de8f-c25325562fb3"
   },
   "outputs": [
    {
     "data": {
      "application/vnd.google.colaboratory.intrinsic+json": {
       "type": "string"
      },
      "text/plain": [
       "'\\n!pwd\\n%cd /content/gdrive/MyDrive\\n!wget https://storage.googleapis.com/magentadata/datasets/groove/groove-v1.0.0.zip\\n#!wget https://storage.googleapis.com/magentadata/datasets/groove/groove-v1.0.0-midionly.zip\\n!unzip groove-v1.0.0.zip\\n!rm groove-v1.0.0.zip\\n!ls\\ndatapath=\"/content/gdrive/MyDrive/groove\"\\n'"
      ]
     },
     "execution_count": 2,
     "metadata": {},
     "output_type": "execute_result"
    }
   ],
   "source": [
    "'''\n",
    "!pwd\n",
    "%cd /content/gdrive/MyDrive\n",
    "!wget https://storage.googleapis.com/magentadata/datasets/groove/groove-v1.0.0.zip\n",
    "#!wget https://storage.googleapis.com/magentadata/datasets/groove/groove-v1.0.0-midionly.zip\n",
    "!unzip groove-v1.0.0.zip\n",
    "!rm groove-v1.0.0.zip\n",
    "!ls\n",
    "datapath=\"/content/gdrive/MyDrive/groove\"\n",
    "'''"
   ]
  },
  {
   "cell_type": "code",
   "execution_count": null,
   "metadata": {
    "id": "nPXSPT3A6Fl1"
   },
   "outputs": [],
   "source": [
    "''' code provided by authors\n",
    "import tensorflow as tf\n",
    "import tensorflow_datasets as tfds\n",
    "\n",
    "# tfds works in both Eager and Graph modes\n",
    "tf.executing_eagerly()\n",
    "\n",
    "# Load the full GMD with MIDI only (no audio) as a tf.data.Dataset\n",
    "dataset = tfds.load(\n",
    "    name=\"groove/full-midionly\",\n",
    "    split=tfds.Split.TRAIN,\n",
    "    try_gcs=True)\n",
    "\n",
    "# Build your input pipeline\n",
    "dataset = dataset.shuffle(1024).batch(32).prefetch(\n",
    "    tf.data.experimental.AUTOTUNE)\n",
    "for features in dataset.take(1):\n",
    "  # Access the features you are interested in\n",
    "  midi, genre = features[\"midi\"], features[\"style\"][\"primary\"]\n",
    "  print(f' Midi\\n{midi}')\n",
    "  print(f' Genre\\n{genre}')\n",
    "'''"
   ]
  },
  {
   "cell_type": "code",
   "execution_count": null,
   "metadata": {
    "id": "nBpgg9l87Q6u"
   },
   "outputs": [],
   "source": [
    "'''alternative dataset - midi only\n",
    "!wget https://storage.googleapis.com/magentadata/datasets/groove/groove-v1.0.0-midionly.zip\n",
    "!unzip groove-v1.0.0-midionly.zip\n",
    "!rm groove-v1.0.0-midionly.zip\n",
    "!ls\n",
    "'''"
   ]
  },
  {
   "cell_type": "code",
   "execution_count": null,
   "metadata": {
    "id": "yeOJ0Lb47Bd_"
   },
   "outputs": [],
   "source": [
    "#!cp -r /content/sample_data/groove /content/gdrive/MyDrive/"
   ]
  },
  {
   "cell_type": "markdown",
   "metadata": {
    "id": "p_k4l49CD0vP"
   },
   "source": [
    "#Familiarization with mido"
   ]
  },
  {
   "cell_type": "code",
   "execution_count": 3,
   "metadata": {
    "colab": {
     "base_uri": "https://localhost:8080/"
    },
    "id": "2MJm5thI7sHP",
    "outputId": "b6c86e5c-c2c0-47a7-d3e6-5f15bbde5e31"
   },
   "outputs": [
    {
     "name": "stdout",
     "output_type": "stream",
     "text": [
      "Collecting mido==1.2.9\n",
      "  Downloading mido-1.2.9-py2.py3-none-any.whl (52 kB)\n",
      "\u001b[K     |████████████████████████████████| 52 kB 890 kB/s \n",
      "\u001b[?25hInstalling collected packages: mido\n",
      "Successfully installed mido-1.2.9\n"
     ]
    }
   ],
   "source": [
    "!pip install mido==1.2.9"
   ]
  },
  {
   "cell_type": "code",
   "execution_count": 9,
   "metadata": {
    "id": "tZOcW0HSDwYe"
   },
   "outputs": [],
   "source": [
    "import os\n",
    "import mido #import MidiFile, tempo2bpm, tick2second\n",
    "import pandas as pd\n",
    "import librosa\n",
    "\n",
    "datapath=\"/data/pl/pi-loop-console/d2m/datasets/e-gmd/\""
   ]
  },
  {
   "cell_type": "code",
   "execution_count": 14,
   "metadata": {
    "colab": {
     "base_uri": "https://localhost:8080/"
    },
    "id": "0QGOdZIiEGsV",
    "outputId": "37336be7-c8ab-45c5-9a74-1df984fa9770"
   },
   "outputs": [
    {
     "name": "stdout",
     "output_type": "stream",
     "text": [
      "<midi file '/data/pl/pi-loop-console/d2m/datasets/e-gmd/drummer1/session1/1_funk_80_beat_4-4_36.midi' type 1, 2 tracks, 2412 messages> \n",
      "\n",
      "track_0:\n",
      " <midi track '' 4 messages>\n",
      "track_1:\n",
      " <midi track '' 2408 messages>\n"
     ]
    }
   ],
   "source": [
    "sample_midi_path=os.path.join(datapath,'drummer1/session1/1_funk_80_beat_4-4_36.midi')\n",
    "mid = mido.MidiFile(sample_midi_path)#, clip=True\n",
    "print(mid,\"\\n\")\n",
    "\n",
    "for i,track in enumerate(mid.tracks):\n",
    "    print(f'track_{i}:\\n {track}')"
   ]
  },
  {
   "cell_type": "markdown",
   "metadata": {
    "id": "x323wClB1AMv"
   },
   "source": [
    "# define classes"
   ]
  },
  {
   "cell_type": "code",
   "execution_count": 15,
   "metadata": {
    "colab": {
     "base_uri": "https://localhost:8080/",
     "height": 91
    },
    "id": "oR6On-q70_jN",
    "outputId": "c93bb28f-f342-4b40-8c7c-6947a958ca1e"
   },
   "outputs": [
    {
     "name": "stdout",
     "output_type": "stream",
     "text": [
      "Bass\n"
     ]
    },
    {
     "data": {
      "text/plain": [
       "'\\nclasses=[\"Bass\",\\n        \"Snare\",\\n        \"High_Tom\",\\n        \"Low_Mid_Tom\",\\n        \"High_Floor_Tom\",\\n        \"Open_Hi_Hat\",\\n        \"Closed_Hi_Hat\",\\n        \"Crash_Cymbal\",\\n        \"Ride_Cymbal\"]\\n\\ndef get_class_id(class_str):\\n  return [i for i,c in enumerate(classes) if c==class_str][0]\\n\\ndef get_class_given_id(id):\\n  return classes[id]\\n\\nid=get_class_id(\"Ride_Cymbal\")\\nprint(id)\\nprint(get_class_given_id(id))\\n'"
      ]
     },
     "execution_count": 15,
     "metadata": {},
     "output_type": "execute_result"
    }
   ],
   "source": [
    "classes={\"Bass\":36,\n",
    "        \"Snare\":38,\n",
    "        \"High_Tom\":50,\n",
    "        \"Low_Mid_Tom\":47,\n",
    "        \"High_Floor_Tom\":43,\n",
    "        \"Open_Hi_Hat\":46,\n",
    "        \"Closed_Hi_Hat\":42,\n",
    "        \"Crash_Cymbal\":49,\n",
    "        \"Ride_Cymbal\":51}\n",
    "\n",
    "def get_class_string(id):\n",
    "  return [k for k,v in classes.items() if v == id][0]\n",
    "\n",
    "print(get_class_string(36))\n",
    "\n",
    "'''\n",
    "classes=[\"Bass\",\n",
    "        \"Snare\",\n",
    "        \"High_Tom\",\n",
    "        \"Low_Mid_Tom\",\n",
    "        \"High_Floor_Tom\",\n",
    "        \"Open_Hi_Hat\",\n",
    "        \"Closed_Hi_Hat\",\n",
    "        \"Crash_Cymbal\",\n",
    "        \"Ride_Cymbal\"]\n",
    "\n",
    "def get_class_id(class_str):\n",
    "  return [i for i,c in enumerate(classes) if c==class_str][0]\n",
    "\n",
    "def get_class_given_id(id):\n",
    "  return classes[id]\n",
    "\n",
    "id=get_class_id(\"Ride_Cymbal\")\n",
    "print(id)\n",
    "print(get_class_given_id(id))\n",
    "'''\n",
    "#print(classes)"
   ]
  },
  {
   "cell_type": "markdown",
   "metadata": {
    "id": "8OqziHSHXOrv"
   },
   "source": [
    "# design Note and Midifile classes"
   ]
  },
  {
   "cell_type": "code",
   "execution_count": 16,
   "metadata": {
    "id": "XS60Ncr3sv50"
   },
   "outputs": [
    {
     "data": {
      "text/plain": [
       "'\\nclass Midifile:\\n  def __init__(self, filepath):\\n    self.midifile=mido.MidiFile(filepath)\\n    self.tempo=0\\n    self.bpm=0\\n    self.rythm_numerator=0\\n    self.rythm_denominator=0\\n\\n    self.notes=[]\\n\\n    self.PPQ=self.midifile.ticks_per_beat\\n    self.total_ticks=self.set_length_ticks()\\n    self.ending_tick=0\\n\\n    #not explicitly required yet\\n    self.key=\\'\\'\\n    self.clocks_per_click=0\\n    self.notated_32nd_notes_per_beat=0\\n\\n\\n  def get_midifile(self):\\n    return self.midifile\\n\\n  def set_length_ticks(self):\\n    elapsed_ticks=0\\n    for track in self.midifile.tracks[0]:\\n      elapsed_ticks+=track.time\\n    self.total_ticks=elapsed_ticks\\n\\n  def get_total_ticks(self):\\n    return self.total_ticks\\n  \\n  def get_total_seconds(self):\\n    return mido.tick2second(self.total_ticks,self.PPQ,self.tempo)\\n\\n  def parse_midi_messages(self):\\n\\n    for message in self.midifile.tracks[0]:\\n      message_type=message.type\\n\\n      if message_type==\"set_tempo\":\\n        self.tempo=message.tempo\\n        self.bmp=int(mido.tempo2bpm(self.tempo))\\n\\n      elif message_type==\"time_signature\":\\n        self.rythm_numerator=message.numerator\\n        self.rythm_denominator=message.denominator\\n        self.clocks_per_click=message.clocks_per_click\\n        self.notated_32nd_notes_per_beat=message.notated_32nd_notes_per_beat\\n        \\n      elif message_type==\"key_signature\":\\n        self.key=message.key\\n      \\n      elif message_type==\"end_of_track\":\\n        self.ending_tick=message.time\\n     \\n      else:\\n        #print(f\"Unknown message {message}\")\\n        pass\\n      \\n      #\\'\\' Initialize Notes and add them on the self.notes list - ignore program_change and control_change_messages\\n      elif message_type==\"program_change\":\\n        action=\"program_change??\"\\n        channel=message.channel\\n        program=message.program \\n        time=message.time\\n      \\n      elif message_type==\"control_change\":\\n        action=\"control_change??\"\\n        channel=message.channel\\n        control=message.control\\n        value=message.value\\n        time=message.time\\n    \\n      elif message_type==\"note_on\":\\n        action=\"new_note\"\\n        channel=message.channel \\n        note=message.note\\n        note=remap_pitch(note)\\n        velocity=message.velocity\\n        time=message.time\\n      #\\'\\'\\n      \\n  def get_ms_per_tick(self):\\n    return (60000 / (self.bpm * self.PPQ))\\n'"
      ]
     },
     "execution_count": 16,
     "metadata": {},
     "output_type": "execute_result"
    }
   ],
   "source": [
    "'''\n",
    "class Midifile:\n",
    "  def __init__(self, filepath):\n",
    "    self.midifile=mido.MidiFile(filepath)\n",
    "    self.tempo=0\n",
    "    self.bpm=0\n",
    "    self.rythm_numerator=0\n",
    "    self.rythm_denominator=0\n",
    "\n",
    "    self.notes=[]\n",
    "\n",
    "    self.PPQ=self.midifile.ticks_per_beat\n",
    "    self.total_ticks=self.set_length_ticks()\n",
    "    self.ending_tick=0\n",
    "\n",
    "    #not explicitly required yet\n",
    "    self.key=''\n",
    "    self.clocks_per_click=0\n",
    "    self.notated_32nd_notes_per_beat=0\n",
    "\n",
    "\n",
    "  def get_midifile(self):\n",
    "    return self.midifile\n",
    "\n",
    "  def set_length_ticks(self):\n",
    "    elapsed_ticks=0\n",
    "    for track in self.midifile.tracks[0]:\n",
    "      elapsed_ticks+=track.time\n",
    "    self.total_ticks=elapsed_ticks\n",
    "\n",
    "  def get_total_ticks(self):\n",
    "    return self.total_ticks\n",
    "  \n",
    "  def get_total_seconds(self):\n",
    "    return mido.tick2second(self.total_ticks,self.PPQ,self.tempo)\n",
    "\n",
    "  def parse_midi_messages(self):\n",
    "\n",
    "    for message in self.midifile.tracks[0]:\n",
    "      message_type=message.type\n",
    "\n",
    "      if message_type==\"set_tempo\":\n",
    "        self.tempo=message.tempo\n",
    "        self.bmp=int(mido.tempo2bpm(self.tempo))\n",
    "\n",
    "      elif message_type==\"time_signature\":\n",
    "        self.rythm_numerator=message.numerator\n",
    "        self.rythm_denominator=message.denominator\n",
    "        self.clocks_per_click=message.clocks_per_click\n",
    "        self.notated_32nd_notes_per_beat=message.notated_32nd_notes_per_beat\n",
    "        \n",
    "      elif message_type==\"key_signature\":\n",
    "        self.key=message.key\n",
    "      \n",
    "      elif message_type==\"end_of_track\":\n",
    "        self.ending_tick=message.time\n",
    "     \n",
    "      else:\n",
    "        #print(f\"Unknown message {message}\")\n",
    "        pass\n",
    "      \n",
    "      #'' Initialize Notes and add them on the self.notes list - ignore program_change and control_change_messages\n",
    "      elif message_type==\"program_change\":\n",
    "        action=\"program_change??\"\n",
    "        channel=message.channel\n",
    "        program=message.program \n",
    "        time=message.time\n",
    "      \n",
    "      elif message_type==\"control_change\":\n",
    "        action=\"control_change??\"\n",
    "        channel=message.channel\n",
    "        control=message.control\n",
    "        value=message.value\n",
    "        time=message.time\n",
    "    \n",
    "      elif message_type==\"note_on\":\n",
    "        action=\"new_note\"\n",
    "        channel=message.channel \n",
    "        note=message.note\n",
    "        note=remap_pitch(note)\n",
    "        velocity=message.velocity\n",
    "        time=message.time\n",
    "      #''\n",
    "      \n",
    "  def get_ms_per_tick(self):\n",
    "    return (60000 / (self.bpm * self.PPQ))\n",
    "'''"
   ]
  },
  {
   "cell_type": "code",
   "execution_count": 17,
   "metadata": {
    "id": "FWvWmTZxWn-k"
   },
   "outputs": [],
   "source": [
    "#make a Note class\n",
    "class Note:\n",
    "  def __init__(self,channel,pitch,velocity,timestamp,timestamp_sec,duration,duration_sec):\n",
    "    self.channel=channel\n",
    "    self.pitch=self.remap_pitch(pitch)\n",
    "    self.label=self.set_class(self.pitch)\n",
    "    self.velocity=velocity\n",
    "    self.timestamp=timestamp\n",
    "    self.timestamp_sec=timestamp_sec\n",
    "    self.duration=duration\n",
    "    self.duration_sec=duration_sec\n",
    "    \n",
    "    self.relative_time=0 #in which part of the quarted is the note located\n",
    "\n",
    "  def get_label(self):\n",
    "    return self.label\n",
    "  def get_pitch(self):\n",
    "    return self.pitch\n",
    "  def get_duration(self):\n",
    "    return self.duration\n",
    "  def get_velocity(self):\n",
    "    return self.velocity\n",
    "  def get_timestamp(self):\n",
    "    return self.timestamp\n",
    "  def get_timestamp_sec(self):\n",
    "    return self.timestamp_sec\n",
    "  def get_duration_sec(self):\n",
    "    return self.duration_sec\n",
    "\n",
    "  def remap_pitch(self,pitch):\n",
    "    if pitch==36:\n",
    "      return 36#\"Bass\"\n",
    "    elif pitch in (37,38,40):\n",
    "      return 38#\"Snare\"\n",
    "    elif pitch in (48,50):\n",
    "      return 50#\"High_Tom\"\n",
    "    elif pitch in (45,47):\n",
    "      return 47#\"Low_Mid_Tom\"\n",
    "    elif pitch in (43,58):\n",
    "      return 43#\"High_Floor_Tom\"\n",
    "    elif pitch in (26,46):\n",
    "      return 46#\"Open_Hi_Hat\"\n",
    "    elif pitch in (22,42,44):\n",
    "      return 42#\"Closed_Hi_Hat\"\n",
    "    elif pitch in (49,52,55,57):\n",
    "      return 49#\"Crash_Cymbal\"\n",
    "    elif pitch in (51,53,59):\n",
    "      return 51#\"Ride_Cymbal\"\n",
    "      \n",
    "  def set_class(self,id):\n",
    "    classes={\"Bass\":36,\n",
    "        \"Snare\":38,\n",
    "        \"High_Tom\":50,\n",
    "        \"Low_Mid_Tom\":47,\n",
    "        \"High_Floor_Tom\":43,\n",
    "        \"Open_Hi_Hat\":46,\n",
    "        \"Closed_Hi_Hat\":42,\n",
    "        \"Crash_Cymbal\":49,\n",
    "        \"Ride_Cymbal\":51}\n",
    "    return [k for k,v in classes.items() if v == id][0]\n",
    "  '''\n",
    "  def tick2second(tick, ticks_per_beat, tempo):\n",
    "    \"\"\"Convert absolute time in ticks to seconds.\n",
    "    Returns absolute time in seconds for a chosen MIDI file time\n",
    "    resolution (ticks per beat, also called PPQN or pulses per quarter\n",
    "    note) and tempo (microseconds per beat).\n",
    "    \"\"\"\n",
    "    scale = tempo * 1e-6 / ticks_per_beat\n",
    "    return tick * scale\n",
    "  '''"
   ]
  },
  {
   "cell_type": "code",
   "execution_count": 18,
   "metadata": {
    "id": "4iFbZJrideKL"
   },
   "outputs": [],
   "source": [
    "class Midifile:\n",
    "  def __init__(self,filepath):\n",
    "    self.midifile=mido.MidiFile(filepath)\n",
    "    self.PPQ=self.midifile.ticks_per_beat\n",
    "    self.notes=[]\n",
    "    \n",
    "    self.parse_midi_messages()\n",
    "    \n",
    "\n",
    "    #self.total_ticks=self.set_length_ticks()\n",
    "    #self.ending_tick=0\n",
    "\n",
    "   #not explicitly required yet\n",
    "    #self.key=''\n",
    "    #self.clocks_per_click=0\n",
    "    #self.notated_32nd_notes_per_beat=0\n",
    "  \n",
    "  def parse_midi_messages(self):\n",
    "\n",
    "    elapsed_ticks=0\n",
    "    for m,message in enumerate(self.midifile.tracks[0]):\n",
    "      message_type=message.type\n",
    "      \n",
    "      elapsed_ticks+=message.time\n",
    "      print(f'message {m} , time= {message.time} elapsed_ticks={elapsed_ticks}')\n",
    "\n",
    "      if message_type==\"set_tempo\":\n",
    "        self.tempo=message.tempo\n",
    "        self.bpm=int(mido.tempo2bpm(self.tempo))\n",
    "\n",
    "      elif message_type==\"time_signature\":\n",
    "        self.rythm_numerator=message.numerator\n",
    "        self.rythm_denominator=message.denominator\n",
    "        self.clocks_per_click=message.clocks_per_click\n",
    "        self.notated_32nd_notes_per_beat=message.notated_32nd_notes_per_beat\n",
    "        \n",
    "      elif message_type==\"key_signature\":\n",
    "        self.key=message.key\n",
    "      \n",
    "      elif message_type==\"end_of_track\":\n",
    "        self.ending_tick=message.time\n",
    "        self.total_ticks=elapsed_ticks\n",
    "\n",
    "      elif message_type==\"note_on\":\n",
    "        channel=message.channel \n",
    "        pitch=message.note\n",
    "        velocity=message.velocity\n",
    "        time=message.time\n",
    "        #duration=self.midifile.tracks[0][m+1].time\n",
    "        #print(f'duration={self.midifile.tracks[0][m+1].time}')\n",
    "        timestamp=elapsed_ticks\n",
    "        timestamp_sec=self.convert_tic2sec(timestamp)\n",
    "        if velocity!=0:\n",
    "          temp_counter=1\n",
    "          duration=0\n",
    "          for msg in self.midifile.tracks[0][m+1:]:\n",
    "            duration+=msg.time\n",
    "            if msg.type==\"note_on\" and msg.note==pitch and msg.velocity==0:\n",
    "              new_note=Note(channel,pitch,velocity,timestamp,timestamp_sec,duration,self.convert_tic2sec(duration))\n",
    "              self.notes.append(new_note)\n",
    "              break\n",
    "      else:\n",
    "        #print(f\"Unknown message {message}\")\n",
    "        pass\n",
    "\n",
    "  def get_midifile(self):\n",
    "    return self.midifile\n",
    "  def get_tempo(self):\n",
    "    return self.tempo\n",
    "  def get_bpm(self):\n",
    "    return self.bpm\n",
    "  def get_rythm_numerator(self):\n",
    "    return self.rythm_numerator\n",
    "  def get_rythm_denominator(self):\n",
    "    return self.rythm_denominator\n",
    "  def get_note(self,idx):\n",
    "    return self.notes[idx]\n",
    "  def get_num_notes(self):\n",
    "    return len(self.notes)\n",
    "  def get_total_ticks(self):\n",
    "    return self.total_ticks\n",
    "  def get_total_seconds(self):\n",
    "    return mido.tick2second(self.total_ticks,self.PPQ,self.tempo)\n",
    "  def get_ms_per_tick(self):\n",
    "    return (60000 / (self.bpm * self.PPQ))\n",
    "  def convert_tic2sec(self,tick):\n",
    "    return mido.tick2second(tick,self.PPQ,self.tempo)"
   ]
  },
  {
   "cell_type": "code",
   "execution_count": 26,
   "metadata": {
    "colab": {
     "base_uri": "https://localhost:8080/"
    },
    "id": "HUiaUhfmaNJX",
    "outputId": "d47d712e-e64b-4548-907e-b796dcbc575d"
   },
   "outputs": [
    {
     "name": "stdout",
     "output_type": "stream",
     "text": [
      "message 0 , time= 0 elapsed_ticks=0\n",
      "message 1 , time= 0 elapsed_ticks=0\n",
      "message 2 , time= 0 elapsed_ticks=0\n",
      "message 3 , time= 1 elapsed_ticks=1\n",
      "750000\n",
      "80\n"
     ]
    }
   ],
   "source": [
    "#test Midifile class\n",
    "test_midi=Midifile(sample_midi_path)\n",
    "#test_midi.parse_midi_messages()\n",
    "print(test_midi.get_tempo())\n",
    "print(test_midi.get_bpm())"
   ]
  },
  {
   "cell_type": "code",
   "execution_count": 25,
   "metadata": {
    "colab": {
     "base_uri": "https://localhost:8080/"
    },
    "id": "lVdXaG90ibg5",
    "outputId": "8346605b-bc0c-4447-97a6-d258bf068d93"
   },
   "outputs": [],
   "source": [
    "#test Note class\n",
    "num=test_midi.get_num_notes()\n",
    "for i in range(num):\n",
    "  n=test_midi.get_note(i)\n",
    "  print(f'note {i+1}--> label:{n.get_label()},timestamp(ticks):{n.get_timestamp()}/{test_midi.get_total_ticks()}, \\\n",
    "  duration(ticks):{n.get_duration()}, \\\n",
    "  pitch:{n.get_pitch()}, \\\n",
    "  velocity:{n.get_velocity()} \\\n",
    "  timestamp(secs):{n.get_timestamp_sec()}/{test_midi.get_total_seconds()}, \\\n",
    "  duration(secs):{n.get_duration_sec()}')"
   ]
  },
  {
   "cell_type": "markdown",
   "metadata": {
    "id": "DLYk_Xb9Y6oP"
   },
   "source": [
    "# read midi files - csv"
   ]
  },
  {
   "cell_type": "code",
   "execution_count": 23,
   "metadata": {
    "colab": {
     "base_uri": "https://localhost:8080/"
    },
    "id": "piYWMzxLa7cX",
    "outputId": "31b8b377-1b30-4b96-aaa5-0881b14b4304"
   },
   "outputs": [
    {
     "name": "stdout",
     "output_type": "stream",
     "text": [
      "             0                      1                        2             3   \\\n",
      "0       drummer                session                       id         style   \n",
      "1      drummer1  drummer1/eval_session  drummer1/eval_session/1  funk/groove1   \n",
      "2      drummer1  drummer1/eval_session  drummer1/eval_session/1  funk/groove1   \n",
      "3      drummer1  drummer1/eval_session  drummer1/eval_session/1  funk/groove1   \n",
      "4      drummer1  drummer1/eval_session  drummer1/eval_session/1  funk/groove1   \n",
      "...         ...                    ...                      ...           ...   \n",
      "45533  drummer9      drummer9/session1     drummer9/session1/12          rock   \n",
      "45534  drummer9      drummer9/session1     drummer9/session1/12          rock   \n",
      "45535  drummer9      drummer9/session1     drummer9/session1/12          rock   \n",
      "45536  drummer9      drummer9/session1     drummer9/session1/12          rock   \n",
      "45537  drummer9      drummer9/session1     drummer9/session1/12          rock   \n",
      "\n",
      "        4          5               6                   7           8   \\\n",
      "0      bpm  beat_type  time_signature            duration       split   \n",
      "1      138       beat             4-4  27.826099773242632        test   \n",
      "2      138       beat             4-4  27.826099773242632        test   \n",
      "3      138       beat             4-4  27.826099773242632        test   \n",
      "4      138       beat             4-4  27.826099773242632        test   \n",
      "...    ...        ...             ...                 ...         ...   \n",
      "45533  100       beat             4-4  11.844671201814059  validation   \n",
      "45534  100       beat             4-4               11.85  validation   \n",
      "45535  100       beat             4-4               11.85  validation   \n",
      "45536  100       beat             4-4   11.74453514739229  validation   \n",
      "45537  100       beat             4-4  11.719863945578231  validation   \n",
      "\n",
      "                                                      9   \\\n",
      "0                                          midi_filename   \n",
      "1      drummer1/eval_session/1_funk-groove1_138_beat_...   \n",
      "2      drummer1/eval_session/1_funk-groove1_138_beat_...   \n",
      "3      drummer1/eval_session/1_funk-groove1_138_beat_...   \n",
      "4      drummer1/eval_session/1_funk-groove1_138_beat_...   \n",
      "...                                                  ...   \n",
      "45533     drummer9/session1/12_rock_100_beat_4-4_56.midi   \n",
      "45534     drummer9/session1/12_rock_100_beat_4-4_57.midi   \n",
      "45535     drummer9/session1/12_rock_100_beat_4-4_58.midi   \n",
      "45536      drummer9/session1/12_rock_100_beat_4-4_6.midi   \n",
      "45537      drummer9/session1/12_rock_100_beat_4-4_8.midi   \n",
      "\n",
      "                                                      10  \\\n",
      "0                                         audio_filename   \n",
      "1      drummer1/eval_session/1_funk-groove1_138_beat_...   \n",
      "2      drummer1/eval_session/1_funk-groove1_138_beat_...   \n",
      "3      drummer1/eval_session/1_funk-groove1_138_beat_...   \n",
      "4      drummer1/eval_session/1_funk-groove1_138_beat_...   \n",
      "...                                                  ...   \n",
      "45533      drummer9/session1/12_rock_100_beat_4-4_56.wav   \n",
      "45534      drummer9/session1/12_rock_100_beat_4-4_57.wav   \n",
      "45535      drummer9/session1/12_rock_100_beat_4-4_58.wav   \n",
      "45536       drummer9/session1/12_rock_100_beat_4-4_6.wav   \n",
      "45537       drummer9/session1/12_rock_100_beat_4-4_8.wav   \n",
      "\n",
      "                                    11  \n",
      "0                             kit_name  \n",
      "1                         Acoustic Kit  \n",
      "2            JingleStacks (2nd Hi-Hat)  \n",
      "3                   Studio (Live Room)  \n",
      "4                         Classic Rock  \n",
      "...                                ...  \n",
      "45533                          Custom1  \n",
      "45534                          Custom2  \n",
      "45535                          Custom3  \n",
      "45536  Compact Lite (w/ Tambourine HH)  \n",
      "45537                        Deep Daft  \n",
      "\n",
      "[45538 rows x 12 columns]\n",
      "<class 'pandas.core.frame.DataFrame'>\n"
     ]
    }
   ],
   "source": [
    "#read midi files using info.csv\n",
    "csvpath=os.path.join(datapath,'e-gmd-v1.0.0.csv')\n",
    "csvfile=pd.read_csv(csvpath,header=None)\n",
    "print(csvfile)\n",
    "print(type(csvfile))"
   ]
  },
  {
   "cell_type": "code",
   "execution_count": 24,
   "metadata": {
    "colab": {
     "base_uri": "https://localhost:8080/"
    },
    "id": "7XOKYiGiZJ5u",
    "outputId": "1406bd10-328c-48be-ba5b-61a51922901d"
   },
   "outputs": [
    {
     "name": "stdout",
     "output_type": "stream",
     "text": [
      "folder drummer1\n",
      "\tsession_folder eval_session\n",
      "\tsession_folder session1\n",
      "\tsession_folder session2\n",
      "\tsession_folder session3\n",
      "folder drummer10\n",
      "\tsession_folder session1\n",
      "folder drummer3\n",
      "\tsession_folder session1\n",
      "\tsession_folder session2\n",
      "folder drummer4\n",
      "\tsession_folder session1\n",
      "folder drummer5\n",
      "\tsession_folder eval_session\n",
      "\tsession_folder session1\n",
      "\tsession_folder session2\n",
      "folder drummer6\n",
      "\tsession_folder session1\n",
      "\tsession_folder session2\n",
      "\tsession_folder session3\n",
      "folder drummer7\n",
      "\tsession_folder eval_session\n",
      "\tsession_folder session1\n",
      "\tsession_folder session2\n",
      "\tsession_folder session3\n",
      "folder drummer8\n",
      "\tsession_folder eval_session\n",
      "\tsession_folder session1\n",
      "folder drummer9\n",
      "\tsession_folder session1\n",
      "folder e-gmd-v1.0.0.csv\n",
      "folder LICENSE\n",
      "folder README\n",
      "0 midifiles are found\n"
     ]
    }
   ],
   "source": [
    "midipaths=[]\n",
    "#read midi files by iteratin through the folders\n",
    "for folder in os.listdir(datapath):\n",
    "  print (f'folder {folder}')\n",
    "  folderpath=os.path.join(datapath,folder)\n",
    "  if os.path.isdir(folderpath):\n",
    "    for session_folder in os.listdir(folderpath):\n",
    "      print(f'\\tsession_folder {session_folder}')\n",
    "      session_folderpath=os.path.join(folderpath,session_folder)\n",
    "      if os.path.isdir(session_folderpath):\n",
    "        for midifile in os.listdir(session_folderpath):\n",
    "          #print('\\t\\t\\t',midifile)\n",
    "          midipath=os.path.join(midifile,session_folder)\n",
    "          if midifile[-4:]=='.mid':\n",
    "            midipaths.append(midipath)\n",
    "print(f'{len(midipaths)} midifiles are found')"
   ]
  },
  {
   "cell_type": "markdown",
   "metadata": {
    "id": "kNHR0uipszI2"
   },
   "source": [
    "# list all files"
   ]
  },
  {
   "cell_type": "code",
   "execution_count": 17,
   "metadata": {
    "id": "vC14XChIsyrm"
   },
   "outputs": [],
   "source": [
    "def get_data_subpaths(datapath):\n",
    "  folders=[]\n",
    "  for c in os.listdir(datapath):\n",
    "    subpath=os.path.join(datapath,c)\n",
    "    if (os.path.isdir(subpath)):\n",
    "      #print(f'{subpath} is a folder')\n",
    "      folders.append(subpath)\n",
    "    elif (c==\"info.csv\"):\n",
    "      #print(f\"{subpath} is the annotation file\")\n",
    "      csv_path=subpath\n",
    "    else:\n",
    "      #print(f'{c} is an irrelevant file - not of my concern!')\n",
    "      pass\n",
    "  return csv_path,folders\n",
    "\n",
    "def read_csv(csv_path):\n",
    "  midipaths,audiopaths,bpms,durations,splits,beat_types,sessions=[],[],[],[],[],[],[]\n",
    "  csv=pd.read_csv(csv_path)  \n",
    "  #print(csv.shape)\n",
    "  idxs = csv.index.values.tolist()\n",
    "  for i,idx in enumerate(idxs):\n",
    "    #print(f'index {idx}, value {csv.loc[idx,:]}')\n",
    "    midipaths.append(os.path.join(datapath,csv.loc[idx,\"midi_filename\"]))\n",
    "    #audio_filename=csv.loc[idx,\"audio_filename\"])\n",
    "    try:\n",
    "      audiopaths.append(os.path.join(datapath,csv.loc[idx,\"audio_filename\"]))\n",
    "    except TypeError:\n",
    "      audiopaths.append(\"-\")\n",
    "    bpms.append(csv.loc[idx,\"bpm\"])\n",
    "    durations.append(csv.loc[idx,\"duration\"])\n",
    "    splits.append(csv.loc[idx,\"split\"])\n",
    "    beat_types.append(csv.loc[idx,\"beat_type\"])\n",
    "    sessions.append(csv.loc[idx,\"session\"])\n",
    "  return midipaths,audiopaths,bpms,durations,splits,beat_types,sessions\n",
    "  \n",
    "csv_path,data_folders=get_data_subpaths(datapath)\n",
    "midipaths,audiopaths,bpms,durations,splits,beat_types,sessions=read_csv(csv_path)\n",
    "#for subf in data_folders:\n",
    "#  print(os.listdir(subf))"
   ]
  },
  {
   "cell_type": "code",
   "execution_count": 18,
   "metadata": {
    "colab": {
     "base_uri": "https://localhost:8080/"
    },
    "id": "40Ej2twCxIvP",
    "outputId": "2af1d9e7-549a-47f1-b015-46f6b88dbe7b"
   },
   "outputs": [
    {
     "name": "stdout",
     "output_type": "stream",
     "text": [
      "1150\n",
      "1150\n",
      "1150\n",
      "1091\n"
     ]
    }
   ],
   "source": [
    "print(len(midipaths))\n",
    "print(len(audiopaths))\n",
    "print(len(list(set(midipaths))))\n",
    "print(len(list(set(audiopaths))))"
   ]
  }
 ],
 "metadata": {
  "colab": {
   "collapsed_sections": [],
   "include_colab_link": true,
   "name": "d2m_groove.ipynb",
   "provenance": []
  },
  "kernelspec": {
   "display_name": "Python 3",
   "language": "python",
   "name": "python3"
  },
  "language_info": {
   "codemirror_mode": {
    "name": "ipython",
    "version": 3
   },
   "file_extension": ".py",
   "mimetype": "text/x-python",
   "name": "python",
   "nbconvert_exporter": "python",
   "pygments_lexer": "ipython3",
   "version": "3.8.10"
  }
 },
 "nbformat": 4,
 "nbformat_minor": 1
}
