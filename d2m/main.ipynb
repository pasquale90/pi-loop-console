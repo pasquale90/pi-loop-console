{
 "cells": [
  {
   "cell_type": "code",
   "execution_count": 1,
   "metadata": {},
   "outputs": [],
   "source": [
    "import numpy as np\n",
    "import matplotlib.pyplot as plt\n",
    "import os\n",
    "import matplotlib.pyplot as plt\n",
    "import data"
   ]
  },
  {
   "cell_type": "code",
   "execution_count": 2,
   "metadata": {},
   "outputs": [
    {
     "name": "stdout",
     "output_type": "stream",
     "text": [
      "There are 45537 audiofiles,\n",
      "There are 45537 midifiles.\n",
      "rows \t [    0     1     2 ... 45534 45535 45536]\n",
      "columns \t ['drummer' 'session' 'id' 'style' 'bpm' 'beat_type' 'time_signature'\n",
      " 'duration' 'split' 'midi_filename' 'audio_filename' 'kit_name']\n"
     ]
    }
   ],
   "source": [
    "audiopaths,midipaths=data.pathscan()\n",
    "print(f'There are {len(audiopaths)} audiofiles,\\nThere are {len(midipaths)} midifiles.')\n",
    "\n",
    "csv=data.get_csv()"
   ]
  },
  {
   "cell_type": "code",
   "execution_count": 3,
   "metadata": {},
   "outputs": [
    {
     "name": "stdout",
     "output_type": "stream",
     "text": [
      "/data/pl/samples/220_rock-halftime_140_fill_4-4_6.midi \n",
      " /data/pl/samples/220_rock-halftime_140_fill_4-4_6.wav\n"
     ]
    }
   ],
   "source": [
    "import paths\n",
    "midisample,audiosample=paths.sample_files()\n",
    "print(midisample,\"\\n\",audiosample)"
   ]
  },
  {
   "cell_type": "code",
   "execution_count": 6,
   "metadata": {},
   "outputs": [
    {
     "name": "stdout",
     "output_type": "stream",
     "text": [
      "(54858,)\n"
     ]
    }
   ],
   "source": [
    "import librosa\n",
    "\n",
    "#define analysis parameters\n",
    "def analysis_parameters():\n",
    "    sampling_rate=16000  #for instance: if mode 16, sr = 16kHz\n",
    "    window_size = sampling_rate\n",
    "    overlap = int(window_size*0.75)\n",
    "    hop_length = (window_size-overlap)\n",
    "    return sampling_rate, window_size, hop_length\n",
    "\n",
    "def _windows(data, window_size, hop_length):\n",
    "    start = 0\n",
    "    while start < len(data):\n",
    "        yield start, start + window_size\n",
    "        start += hop_length\n",
    "                    \n",
    "#sampling_rate=16000\n",
    "raw, sr =librosa.load(audiosample, sr=sampling_rate, mono=True)\n",
    "print(raw.shape)\n",
    "\n",
    "frames = []\n",
    "#get windows out of the raw waveform\n",
    "for count_frames,(start,end) in enumerate(_windows(raw,window_size,hop_length)):\n",
    "if(len(raw[start:end]) == window_size):\n",
    "    print(start,end)\n",
    "    frame = raw[start:end]#rectangular window\n",
    "            \n",
    "\n",
    "\n",
    "\n",
    "def preprocess_data(audio_path, folds, files, mode):\n",
    "    \n",
    "  def _windows(data, window_size, hop_length):\n",
    "    start = 0\n",
    "    while start < len(data):\n",
    "      yield start, start + window_size\n",
    "      start += hop_length\n",
    "\n",
    "  def normalize(data):#in the space [-1,1]\n",
    "    #return (data - np.min(data)) / (np.max(data) - np.min(data))#[0,1]\n",
    "    return (2*(data-np.min(data))/(np.max(data) - np.min(data)))-1\n",
    "  \n",
    "\n",
    "  features = []\n",
    " \n",
    "  extr = True\n",
    "  if extr == True:\n",
    "    \n",
    "    print('Preprocessing data ........ ')\n",
    "    \n",
    "    sampling_rate, window_size, hop_length = analysis_parameters(mode)\n",
    "    print(f'sampling_rate: {sampling_rate}, window_size: {window_size}, hop_length: {hop_length}')\n",
    "\n",
    "    shape_print=True\n",
    "\n",
    "\n",
    "    for count_files, file in tqdm(enumerate(audiofiles)):\n",
    "      name = file.split('.wav')[0]\n",
    "\n",
    "      #readfile\n",
    "      raw, sr =librosa.load(audio_path+file, sr=sampling_rate, mono=True)\n",
    "      #print(f'{file} had length {len(raw)}')\n",
    "\n",
    "      #normalize\n",
    "      raw = normalize(raw)\n",
    "      \n",
    "      frames = []\n",
    "      #get windows out of the raw waveform\n",
    "      for count_frames,(start,end) in enumerate(_windows(raw,window_size,hop_length)):\n",
    "        if(len(raw[start:end]) == window_size):\n",
    "          #print(start,end)\n",
    "          frame = raw[start:end]#rectangular window\n",
    "\n",
    "          #flatten\n",
    "          #implemented inside the model\n",
    "\n",
    "          frames.append(frame)\n",
    "      \n",
    "      features.append(frames)\n",
    "     \n",
    "\n",
    "      if shape_print:\n",
    "            print('\\nFeature Shape Check\\n')\n",
    "            print(f'raw has len:{len(raw)/sampling_rate}')\n",
    "            print(f'Postprocessed feature has shape : {np.asarray(features).shape} with min:{np.asarray(features[0]).min()} and max:{np.asarray(features[0]).max()}]')\n",
    "            print()\n",
    "            shape_print = False\n",
    "\n",
    "  #'''\n",
    "  print('len(features)-features',len(features))\n",
    "  print('len(features[0])-freq_domain',len(features[0]))\n",
    "  print('labels',len(labels))\n",
    "  #'''\n",
    "  return features\n",
    "\n",
    "#get analysis parameters\n",
    "sampling_rate, window_size, hop_length = analysis_parameters(mode)\n",
    "print(f'sampling_rate: {sampling_rate}, window_size: {window_size}, hop_length: {hop_length}')\n",
    "\n",
    "#extract_features       \n",
    "features = preprocess_data(audio_path, folds, audiofiles, mode)\n",
    "#features, labels, folders = extract_mel_spectogram(audio_path,us8k,folds,audiofiles,sampling_rate,hop_length,fft_points,mel_bands)\n",
    "print(f' feature\\'s len : {len(features)}, labels : {len(labels)}, folders : {len(folders)}')"
   ]
  },
  {
   "cell_type": "code",
   "execution_count": 22,
   "metadata": {},
   "outputs": [],
   "source": [
    "###Audio-data analysis"
   ]
  },
  {
   "cell_type": "code",
   "execution_count": 23,
   "metadata": {},
   "outputs": [
    {
     "name": "stdout",
     "output_type": "stream",
     "text": [
      "<class 'pandas.core.frame.DataFrame'>\n",
      "RangeIndex: 45537 entries, 0 to 45536\n",
      "Data columns (total 12 columns):\n",
      " #   Column          Non-Null Count  Dtype  \n",
      "---  ------          --------------  -----  \n",
      " 0   drummer         45537 non-null  object \n",
      " 1   session         45537 non-null  object \n",
      " 2   id              45537 non-null  object \n",
      " 3   style           45537 non-null  object \n",
      " 4   bpm             45537 non-null  int64  \n",
      " 5   beat_type       45537 non-null  object \n",
      " 6   time_signature  45537 non-null  object \n",
      " 7   duration        45537 non-null  float64\n",
      " 8   split           45537 non-null  object \n",
      " 9   midi_filename   45537 non-null  object \n",
      " 10  audio_filename  45537 non-null  object \n",
      " 11  kit_name        45537 non-null  object \n",
      "dtypes: float64(1), int64(1), object(10)\n",
      "memory usage: 4.2+ MB\n",
      "None\n"
     ]
    }
   ],
   "source": [
    "print(csv.info())"
   ]
  },
  {
   "cell_type": "code",
   "execution_count": 24,
   "metadata": {},
   "outputs": [
    {
     "name": "stdout",
     "output_type": "stream",
     "text": [
      "45537\n",
      "7636\n",
      "['test' 'test' 'test' ... 'validation' 'validation' 'validation']\n"
     ]
    }
   ],
   "source": [
    "#styles dist\n",
    "styles=csv['style'].values\n",
    "unq_styles=csv['style'].unique()\n",
    "#print(unq_styles)\n",
    "#print(type(styles))\n",
    "#print(len(styles))\n",
    "\n",
    "#beats per seconds dist\n",
    "bpms=csv['bpm'].values\n",
    "#print(type(bpms))\n",
    "#print(len(bpms))\n",
    "\n",
    "beatfill=csv['beat_type'].values\n",
    "#print(beatfill)\n",
    "unq_beatfill=csv['beat_type'].unique()\n",
    "#print(unq_beatfill)\n",
    "\n",
    "#Durations\n",
    "durations=csv['duration'].values\n",
    "unq_durations=csv['duration'].unique()\n",
    "print(len(durations))\n",
    "print(len(unq_durations))\n",
    "\n",
    "splits=csv['split'].values\n",
    "print(splits)"
   ]
  },
  {
   "cell_type": "code",
   "execution_count": 25,
   "metadata": {},
   "outputs": [],
   "source": [
    "#Audio-technical specification analysis\n",
    "#44100\n",
    "#24bit"
   ]
  },
  {
   "cell_type": "code",
   "execution_count": 26,
   "metadata": {},
   "outputs": [
    {
     "name": "stdout",
     "output_type": "stream",
     "text": [
      "split_bpm_mean_dist : split\n",
      "test          104.520325\n",
      "train         109.975580\n",
      "validation    114.170940\n",
      "Name: bpm, dtype: float64\n",
      "\n",
      "split_bpm_std_dist : split\n",
      "test          22.254664\n",
      "train         24.280947\n",
      "validation    22.673931\n",
      "Name: bpm, dtype: float64\n"
     ]
    }
   ],
   "source": [
    "split_bpm_mean_dist=csv.groupby(['split'])['bpm'].mean()\n",
    "split_bpm_std_dist=csv.groupby(['split'])['bpm'].std()\n",
    "print(f'split_bpm_mean_dist : {split_bpm_mean_dist}\\n')\n",
    "print(f'split_bpm_std_dist : {split_bpm_std_dist}')"
   ]
  },
  {
   "cell_type": "code",
   "execution_count": 27,
   "metadata": {},
   "outputs": [
    {
     "data": {
      "image/png": "[encoded data removed]",
      "text/plain": [
       "<Figure size 504x504 with 1 Axes>"
      ]
     },
     "metadata": {},
     "output_type": "display_data"
    }
   ],
   "source": [
    "#ERASEEEEEEE\n",
    "fig ,ax = plt.subplots(figsize=(7,7))\n",
    "ax.set_title('split_bpm_mean_dist', y=1.08)\n",
    "ax.pie(split_bpm_mean_dist, labels=split_bpm_mean_dist.index, autopct='%1.1f%%', shadow=False, startangle=90 ,radius=37,data=split_bpm_mean_dist)\n",
    "ax.axis('equal')#circle\n",
    "plt.show()"
   ]
  },
  {
   "cell_type": "code",
   "execution_count": null,
   "metadata": {},
   "outputs": [],
   "source": [
    "#ERASEEEEEEE\n",
    "# Plot Class_dist\n",
    "fig ,ax = plt.subplots(figsize=(7,7))\n",
    "ax.set_title('split_bpm_std_dist', y=1.08)\n",
    "ax.pie(split_bpm_std_dist, labels=split_bpm_std_dist.index, autopct='%1.1f%%', shadow=False, startangle=90 ,radius=37)\n",
    "ax.axis('equal')#circle\n",
    "plt.show()"
   ]
  },
  {
   "cell_type": "code",
   "execution_count": 8,
   "metadata": {},
   "outputs": [
    {
     "data": {
      "text/plain": [
       "bpm\n",
       "50      43\n",
       "60     344\n",
       "63     344\n",
       "64      43\n",
       "65     172\n",
       "      ... \n",
       "185     43\n",
       "190     43\n",
       "200     86\n",
       "215    258\n",
       "290     43\n",
       "Name: split, Length: 72, dtype: int64"
      ]
     },
     "execution_count": 8,
     "metadata": {},
     "output_type": "execute_result"
    }
   ],
   "source": [
    "csv.groupby(['bpm'])['split'].count()"
   ]
  },
  {
   "cell_type": "code",
   "execution_count": null,
   "metadata": {},
   "outputs": [],
   "source": []
  },
  {
   "cell_type": "code",
   "execution_count": 9,
   "metadata": {},
   "outputs": [
    {
     "ename": "NameError",
     "evalue": "name 'class_dist' is not defined",
     "output_type": "error",
     "traceback": [
      "\u001b[0;31m---------------------------------------------------------------------------\u001b[0m",
      "\u001b[0;31mNameError\u001b[0m                                 Traceback (most recent call last)",
      "\u001b[0;32m<ipython-input-9-f8995b2be628>\u001b[0m in \u001b[0;36m<module>\u001b[0;34m\u001b[0m\n\u001b[1;32m      3\u001b[0m \u001b[0mfig\u001b[0m \u001b[0;34m,\u001b[0m\u001b[0max\u001b[0m \u001b[0;34m=\u001b[0m \u001b[0mplt\u001b[0m\u001b[0;34m.\u001b[0m\u001b[0msubplots\u001b[0m\u001b[0;34m(\u001b[0m\u001b[0mfigsize\u001b[0m\u001b[0;34m=\u001b[0m\u001b[0;34m(\u001b[0m\u001b[0;36m12\u001b[0m\u001b[0;34m,\u001b[0m\u001b[0;36m12\u001b[0m\u001b[0;34m)\u001b[0m\u001b[0;34m)\u001b[0m\u001b[0;34m\u001b[0m\u001b[0;34m\u001b[0m\u001b[0m\n\u001b[1;32m      4\u001b[0m \u001b[0max\u001b[0m\u001b[0;34m.\u001b[0m\u001b[0mset_title\u001b[0m\u001b[0;34m(\u001b[0m\u001b[0;34m'Split Distribution'\u001b[0m\u001b[0;34m,\u001b[0m \u001b[0my\u001b[0m\u001b[0;34m=\u001b[0m\u001b[0;36m1.08\u001b[0m\u001b[0;34m)\u001b[0m\u001b[0;34m\u001b[0m\u001b[0;34m\u001b[0m\u001b[0m\n\u001b[0;32m----> 5\u001b[0;31m \u001b[0max\u001b[0m\u001b[0;34m.\u001b[0m\u001b[0mpie\u001b[0m\u001b[0;34m(\u001b[0m\u001b[0mclass_dist\u001b[0m\u001b[0;34m,\u001b[0m \u001b[0mlabels\u001b[0m\u001b[0;34m=\u001b[0m\u001b[0mclass_dist\u001b[0m\u001b[0;34m.\u001b[0m\u001b[0mindex\u001b[0m\u001b[0;34m,\u001b[0m \u001b[0mautopct\u001b[0m\u001b[0;34m=\u001b[0m\u001b[0;34m'%1.1f%%'\u001b[0m\u001b[0;34m,\u001b[0m \u001b[0mshadow\u001b[0m\u001b[0;34m=\u001b[0m\u001b[0;32mFalse\u001b[0m\u001b[0;34m,\u001b[0m \u001b[0mstartangle\u001b[0m\u001b[0;34m=\u001b[0m\u001b[0;36m90\u001b[0m \u001b[0;34m,\u001b[0m\u001b[0mradius\u001b[0m\u001b[0;34m=\u001b[0m\u001b[0;36m37\u001b[0m\u001b[0;34m)\u001b[0m\u001b[0;34m\u001b[0m\u001b[0;34m\u001b[0m\u001b[0m\n\u001b[0m\u001b[1;32m      6\u001b[0m \u001b[0max\u001b[0m\u001b[0;34m.\u001b[0m\u001b[0maxis\u001b[0m\u001b[0;34m(\u001b[0m\u001b[0;34m'equal'\u001b[0m\u001b[0;34m)\u001b[0m\u001b[0;31m#circle\u001b[0m\u001b[0;34m\u001b[0m\u001b[0;34m\u001b[0m\u001b[0m\n\u001b[1;32m      7\u001b[0m \u001b[0mplt\u001b[0m\u001b[0;34m.\u001b[0m\u001b[0mshow\u001b[0m\u001b[0;34m(\u001b[0m\u001b[0;34m)\u001b[0m\u001b[0;34m\u001b[0m\u001b[0;34m\u001b[0m\u001b[0m\n",
      "\u001b[0;31mNameError\u001b[0m: name 'class_dist' is not defined"
     ]
    },
    {
     "data": {
      "image/png": "[encoded data removed]",
      "text/plain": [
       "<Figure size 864x864 with 1 Axes>"
      ]
     },
     "metadata": {
      "needs_background": "light"
     },
     "output_type": "display_data"
    }
   ],
   "source": [
    "# Plot class distribution\n",
    "import matplotlib.pyplot as plt\n",
    "fig ,ax = plt.subplots(figsize=(12,12))\n",
    "ax.set_title('Split Distribution', y=1.08)\n",
    "ax.pie(class_dist, labels=class_dist.index, autopct='%1.1f%%', shadow=False, startangle=90 ,radius=37)\n",
    "ax.axis('equal')#circle\n",
    "plt.show()"
   ]
  },
  {
   "cell_type": "code",
   "execution_count": 7,
   "metadata": {},
   "outputs": [],
   "source": [
    "###Midi-data analysis"
   ]
  },
  {
   "cell_type": "code",
   "execution_count": 10,
   "metadata": {},
   "outputs": [
    {
     "name": "stdout",
     "output_type": "stream",
     "text": [
      "/data/pl/e-gmd/drummer1/eval_session/10_soul-groove10_102_beat_4-4_1.midi\n"
     ]
    }
   ],
   "source": [
    "print(midipaths[0])"
   ]
  },
  {
   "cell_type": "code",
   "execution_count": 15,
   "metadata": {},
   "outputs": [
    {
     "name": "stdout",
     "output_type": "stream",
     "text": [
      "<midi file '/data/pl/samples/220_rock-halftime_140_fill_4-4_6.midi' type 1, 2 tracks, 30 messages>\n"
     ]
    }
   ],
   "source": [
    "import mido as md\n",
    "\n",
    "mid = md.MidiFile(\"/data/pl/samples/220_rock-halftime_140_fill_4-4_6.midi\", clip=True)#midipaths[0]\n",
    "print(mid)"
   ]
  },
  {
   "cell_type": "code",
   "execution_count": 16,
   "metadata": {},
   "outputs": [
    {
     "name": "stdout",
     "output_type": "stream",
     "text": [
      "<midi track '' 4 messages>\n",
      "<midi track '' 26 messages>\n"
     ]
    }
   ],
   "source": [
    "for track in mid.tracks:\n",
    "    print(track)"
   ]
  },
  {
   "cell_type": "code",
   "execution_count": 19,
   "metadata": {},
   "outputs": [
    {
     "name": "stdout",
     "output_type": "stream",
     "text": [
      "<meta message set_tempo tempo=428571 time=0>\n",
      "<class 'mido.midifiles.meta.MetaMessage'>\n",
      "<meta message time_signature numerator=4 denominator=4 clocks_per_click=24 notated_32nd_notes_per_beat=8 time=0>\n",
      "<class 'mido.midifiles.meta.MetaMessage'>\n",
      "<meta message key_signature key='C' time=0>\n",
      "<class 'mido.midifiles.meta.MetaMessage'>\n",
      "<meta message end_of_track time=1>\n",
      "<class 'mido.midifiles.meta.MetaMessage'>\n"
     ]
    }
   ],
   "source": [
    "for msg in mid.tracks[0]:\n",
    "    print(msg)\n",
    "    print(type(msg))"
   ]
  },
  {
   "cell_type": "code",
   "execution_count": 23,
   "metadata": {},
   "outputs": [
    {
     "name": "stdout",
     "output_type": "stream",
     "text": [
      "program_change\n",
      "control_change\n",
      "note_on\n",
      "note_on\n",
      "note_on\n",
      "note_on\n",
      "note_on\n",
      "note_on\n",
      "note_on\n",
      "note_on\n",
      "note_on\n",
      "note_on\n",
      "note_on\n",
      "note_on\n",
      "note_on\n",
      "note_on\n",
      "note_on\n",
      "note_on\n",
      "note_on\n",
      "note_on\n",
      "note_on\n",
      "note_on\n",
      "note_on\n",
      "note_on\n",
      "control_change\n",
      "<meta\n"
     ]
    }
   ],
   "source": [
    "for msg in mid.tracks[1]:\n",
    "    #print(msg)\n",
    "    msg=str(msg)\n",
    "    print(msg.split(' ')[0])\n",
    "    #parse string message to store annotations {1.note = the drum comp class, 2.velocity , 3.time)\n",
    "    \n",
    "    #print(type(msg))"
   ]
  },
  {
   "cell_type": "code",
   "execution_count": 13,
   "metadata": {},
   "outputs": [
    {
     "name": "stdout",
     "output_type": "stream",
     "text": [
      "<midi track '' 4 messages>\n",
      "4\n",
      "<midi track '' 9904 messages>\n",
      "9904\n"
     ]
    }
   ],
   "source": [
    "cv1 = md.MidiFile('sample.midi', clip=True)\n",
    "\n",
    "message_numbers = []\n",
    "duplicates = []\n",
    "\n",
    "for track in cv1.tracks:\n",
    "    print(track)\n",
    "    print(len(track))\n",
    "    if len(track) in message_numbers:\n",
    "        duplicates.append(track)\n",
    "    else:\n",
    "        message_numbers.append(len(track))\n",
    "\n",
    "for track in duplicates:\n",
    "    print(track)\n",
    "    cv1.tracks.remove(track)\n",
    "\n",
    "#cv1.save('new_song.mid')\n"
   ]
  },
  {
   "cell_type": "code",
   "execution_count": null,
   "metadata": {},
   "outputs": [],
   "source": []
  }
 ],
 "metadata": {
  "kernelspec": {
   "display_name": "Python 3",
   "language": "python",
   "name": "python3"
  },
  "language_info": {
   "codemirror_mode": {
    "name": "ipython",
    "version": 3
   },
   "file_extension": ".py",
   "mimetype": "text/x-python",
   "name": "python",
   "nbconvert_exporter": "python",
   "pygments_lexer": "ipython3",
   "version": "3.8.10"
  }
 },
 "nbformat": 4,
 "nbformat_minor": 4
}
